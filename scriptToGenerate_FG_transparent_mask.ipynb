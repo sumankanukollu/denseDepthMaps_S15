{
  "nbformat": 4,
  "nbformat_minor": 0,
  "metadata": {
    "colab": {
      "name": "scriptToGenerate_FG_transparent_mask.ipynb",
      "provenance": [],
      "collapsed_sections": [],
      "toc_visible": true,
      "include_colab_link": true
    },
    "kernelspec": {
      "name": "python3",
      "display_name": "Python 3"
    },
    "accelerator": "GPU"
  },
  "cells": [
    {
      "cell_type": "markdown",
      "metadata": {
        "id": "view-in-github",
        "colab_type": "text"
      },
      "source": [
        "<a href=\"https://colab.research.google.com/github/sumankanukollu/denseDepthMaps_S15/blob/master/scriptToGenerate_FG_transparent_mask.ipynb\" target=\"_parent\"><img src=\"https://colab.research.google.com/assets/colab-badge.svg\" alt=\"Open In Colab\"/></a>"
      ]
    },
    {
      "cell_type": "markdown",
      "metadata": {
        "id": "ixp-Cd9hXckd",
        "colab_type": "text"
      },
      "source": [
        "# 1. Mount drive"
      ]
    },
    {
      "cell_type": "code",
      "metadata": {
        "id": "Lq4aFytUKxWf",
        "colab_type": "code",
        "colab": {}
      },
      "source": [
        "from google.colab import drive\n",
        "drive.mount(\"/content/drive\", force_remount=True)"
      ],
      "execution_count": 0,
      "outputs": []
    },
    {
      "cell_type": "markdown",
      "metadata": {
        "id": "IYm4Zx0hXh9p",
        "colab_type": "text"
      },
      "source": [
        "# 2. Import Fully-Covolutional Network model with a ResNet-101"
      ]
    },
    {
      "cell_type": "code",
      "metadata": {
        "id": "1uRKpuHABfZB",
        "colab_type": "code",
        "colab": {}
      },
      "source": [
        "from torchvision import models\n",
        "fcn = models.segmentation.fcn_resnet101(pretrained=True).eval()"
      ],
      "execution_count": 0,
      "outputs": []
    },
    {
      "cell_type": "code",
      "metadata": {
        "id": "ogPNUfKMNg9I",
        "colab_type": "code",
        "colab": {}
      },
      "source": [
        "import sys,os\n",
        "from pathlib import Path\n",
        "\n",
        "\n",
        "dataSet = Path('/content/drive/My Drive/EVA4/S15A_RCNN/original_rgb_imgs')\n",
        "sys.path.append(str(dataSet))\n",
        "\n",
        "print(sys.path)\n",
        "os.chdir(dataSet)\n",
        "!ls"
      ],
      "execution_count": 0,
      "outputs": []
    },
    {
      "cell_type": "code",
      "metadata": {
        "id": "y0dBDVfeKzrg",
        "colab_type": "code",
        "colab": {}
      },
      "source": [
        "from PIL import Image\n",
        "import matplotlib.pyplot as plt\n",
        "import torch\n",
        "import torchvision.transforms as T\n",
        "\n",
        "print('PyTorch %s %s' % (torch.__version__, torch.cuda.get_device_properties(0) if torch.cuda.is_available() else 'CPU'))\n",
        "#img = Image.open('10_suman.png')\n",
        "#plt.imshow(img); plt.show()"
      ],
      "execution_count": 0,
      "outputs": []
    },
    {
      "cell_type": "markdown",
      "metadata": {
        "id": "d8eXaXkbYT-G",
        "colab_type": "text"
      },
      "source": [
        "# 3. To generate masks for the FG Images define the helper functions "
      ]
    },
    {
      "cell_type": "code",
      "metadata": {
        "id": "1HegYFu5NWgI",
        "colab_type": "code",
        "colab": {}
      },
      "source": [
        "from IPython.core.debugger import  set_trace\n",
        "import numpy as np\n",
        "def decode_segmap(image,name, nc=21, imgclr='black'):\n",
        "  \n",
        "  label_colors_rgb = np.array([(0,0,0),  # 0=background\n",
        "               # 1=aeroplane, 2=bicycle, 3=bird, 4=boat, 5=bottle\n",
        "               (128, 0, 0), (0, 128, 0), (128, 128, 0), (0, 0, 128), (128, 0, 128),\n",
        "               # 6=bus, 7=car, 8=cat, 9=chair, 10=cow\n",
        "               (0, 128, 128), (128, 128, 128), (64, 0, 0), (192, 0, 0), (64, 128, 0),\n",
        "               # 11=dining table, 12=dog, 13=horse, 14=motorbike, 15=person\n",
        "               (192, 128, 0), (64, 0, 128), (192, 0, 128), (64, 128, 128), (192, 128, 128),\n",
        "               # 16=potted plant, 17=sheep, 18=sofa, 19=train, 20=tv/monitor\n",
        "               (0, 64, 0), (128, 64, 0), (0, 192, 0), (128, 192, 0), (0, 64, 128)])\n",
        "  \n",
        "  label_colors_black = np.array([(255,255,255),  # 0=background\n",
        "               # 1=aeroplane, 2=bicycle, 3=bird, 4=boat, 5=bottle\n",
        "               (0, 0, 0), (0, 0, 0), (0, 0, 0), (0, 0, 0), (0, 0, 0),\n",
        "               # 6=bus, 7=car, 8=cat, 9=chair, 10=cow\n",
        "               (0, 0, 0), (0, 0, 0), (0, 0, 0), (0, 0, 0), (0, 0, 0),\n",
        "               # 11=dining table, 12=dog, 13=horse, 14=motorbike, 15=person\n",
        "               (0, 0, 0), (0, 0, 0), (0, 0, 0), (0, 0, 0), (0, 0, 0),\n",
        "               # 16=potted plant, 17=sheep, 18=sofa, 19=train, 20=tv/monitor\n",
        "               (0, 0, 0), (0, 0, 0), (0, 0, 0), (0, 0, 0), (0, 0, 0)])\n",
        "  \n",
        "  label_colors_white = np.array([(0,0,0),  # 0=background\n",
        "               # 1=aeroplane, 2=bicycle, 3=bird, 4=boat, 5=bottle\n",
        "               (255,255,255), (255,255,255),(255,255,255),(255,255,255),(255,255,255),\n",
        "               # 6=bus, 7=car, 8=cat, 9=chair, 10=cow\n",
        "               (255,255,255), (255,255,255),(255,255,255),(255,255,255),(255,255,255),\n",
        "               # 11=dining table, 12=dog, 13=horse, 14=motorbike, 15=person\n",
        "               (255,255,255),(255,255,255),(255,255,255),(255,255,255),(255,255,255),\n",
        "               # 16=potted plant, 17=sheep, 18=sofa, 19=train, 20=tv/monitor\n",
        "               (255,255,255),(255,255,255),(255,255,255),(255,255,255),(255,255,255)])\n",
        "  if imgclr=='black':\n",
        "    label_colors = label_colors_black\n",
        "  elif imgclr=='white':\n",
        "    label_colors = label_colors_white\n",
        "  else:\n",
        "    label_colors = label_colors_rgb\n",
        "\n",
        "  r = np.zeros_like(image).astype(np.uint8)\n",
        "  g = np.zeros_like(image).astype(np.uint8)\n",
        "  b = np.zeros_like(image).astype(np.uint8)\n",
        "  \n",
        "  for l in range(0, nc):\n",
        "    idx = image == l\n",
        "    r[idx] = label_colors[l, 0]\n",
        "    g[idx] = label_colors[l, 1]\n",
        "    b[idx] = label_colors[l, 2]\n",
        "    \n",
        "  \n",
        "  rgb = np.stack([r, g, b], axis=2)\n",
        "  im = Image.fromarray(rgb)\n",
        "  maskpath = os.path.join(dataSet,'mask',name+'_mask.png')\n",
        "  print('Image mask is saved at : {}'.format(maskpath))\n",
        "  im.save(maskpath)\n",
        "  return rgb"
      ],
      "execution_count": 0,
      "outputs": []
    },
    {
      "cell_type": "code",
      "metadata": {
        "id": "k2XwJW5ALSiM",
        "colab_type": "code",
        "colab": {}
      },
      "source": [
        "def segment(net, path, show_orig=True, dev='cuda',imgclr='white'):\n",
        "  img = Image.open(path)\n",
        "\n",
        "  if show_orig: plt.imshow(img); plt.axis('off'); plt.show()\n",
        "  # Comment the Resize and CenterCrop for better inference results\n",
        "  trf = T.Compose([T.Resize(128), \n",
        "                   #T.CenterCrop(224), \n",
        "                   #T.CenterCrop(224), \n",
        "                   #T.Grayscale(num_output_channels=1),\n",
        "                   T.ToTensor(), \n",
        "                   T.Normalize(mean = [0.485, 0.456, 0.406], \n",
        "                               std = [0.229, 0.224, 0.225])])\n",
        "  inp = trf(img).unsqueeze(0).to(dev)\n",
        "  out = net.to(dev)(inp)['out']\n",
        "  om = torch.argmax(out.squeeze(), dim=0).detach().cpu().numpy()\n",
        "  rgb = decode_segmap(om,name=path.split('.')[0],imgclr=imgclr)\n",
        "  plt.imshow(rgb); plt.axis('off'); plt.show()"
      ],
      "execution_count": 0,
      "outputs": []
    },
    {
      "cell_type": "code",
      "metadata": {
        "id": "0i7v-PnPNDqA",
        "colab_type": "code",
        "colab": {}
      },
      "source": [
        "os.chdir(os.path.join(dataSet,'fg_96'))\n",
        "!pwd\n",
        "for img in os.listdir('.'):\n",
        "    #print(img)\n",
        "    if img.endswith('.jpg'):\n",
        "      segment(fcn, img,imgclr='white')\n",
        "      "
      ],
      "execution_count": 0,
      "outputs": []
    },
    {
      "cell_type": "markdown",
      "metadata": {
        "id": "PnOm813Yxu_n",
        "colab_type": "text"
      },
      "source": [
        "# 4. Resize images"
      ]
    },
    {
      "cell_type": "code",
      "metadata": {
        "id": "9R4KPVDhxuRR",
        "colab_type": "code",
        "colab": {}
      },
      "source": [
        "from PIL import Image"
      ],
      "execution_count": 0,
      "outputs": []
    },
    {
      "cell_type": "code",
      "metadata": {
        "id": "jFKQmw0uyIBh",
        "colab_type": "code",
        "colab": {}
      },
      "source": [
        "def convert2JpgNresz(w,h):\n",
        "\tbasewidth = w\n",
        "\thsize =  h\n",
        "\tstart =1\n",
        "\tfor im in os.listdir('.'):\n",
        "\t\tif im.endswith('.png'):\n",
        "\t\t\t#os.remove(im)\n",
        "\t\t\timg = Image.open(im)\n",
        "\t\t\t#wpercent = (basewidth/float(img.size[0]))\n",
        "\t\t\t#hsize = int((float(img.size[1])*float(wpercent)))\n",
        "\t\t\timg = img.resize((basewidth,hsize), Image.ANTIALIAS)\n",
        "\t\t\tnewName = im.split('.png')[0]+'.jpg'\t\n",
        "\t\t\timg.save(newName)\n",
        "\t\t\t\n",
        "\t\t\tstart +=1"
      ],
      "execution_count": 0,
      "outputs": []
    },
    {
      "cell_type": "code",
      "metadata": {
        "id": "SXwMMGAvyo4h",
        "colab_type": "code",
        "colab": {}
      },
      "source": [
        "homepath = Path('/content/drive/My Drive/pytorch_Framework_suman/RCNN_S14_ImageSegmentation/original_jpg_imgs/fg/')\n",
        "os.chdir(homepath)\n",
        "convert2JpgNresz(90,90)"
      ],
      "execution_count": 0,
      "outputs": []
    },
    {
      "cell_type": "markdown",
      "metadata": {
        "id": "cKLwQSgMHZDg",
        "colab_type": "text"
      },
      "source": [
        "# 5. Convert to gray scale and verify image sizes"
      ]
    },
    {
      "cell_type": "code",
      "metadata": {
        "id": "7GDIbk_jAPf7",
        "colab_type": "code",
        "colab": {}
      },
      "source": [
        "def checkSz():\n",
        "    for i in os.listdir('.'):\n",
        "        im = Image.open(i)\n",
        "        print(im.size)\n",
        "\n",
        "\n",
        "def convertRgbToGrayScaleImg():\n",
        "    for i in os.listdir('.'):\n",
        "        if i.endswith('.jpg'):\n",
        "            im = Image.open(i).convert('L')\n",
        "            im.save(i)\n",
        "homepath = Path('/content/drive/My Drive/pytorch_Framework_suman/RCNN_S14_ImageSegmentation/original_jpg_imgs/mask/')\n",
        "os.chdir(homepath)\n",
        "convertRgbToGrayScaleImg()"
      ],
      "execution_count": 0,
      "outputs": []
    },
    {
      "cell_type": "code",
      "metadata": {
        "id": "0QvrxaxJBUbY",
        "colab_type": "code",
        "colab": {}
      },
      "source": [
        ""
      ],
      "execution_count": 0,
      "outputs": []
    }
  ]
}