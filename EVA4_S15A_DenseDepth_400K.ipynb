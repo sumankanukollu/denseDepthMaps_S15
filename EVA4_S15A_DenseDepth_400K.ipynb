{
  "nbformat": 4,
  "nbformat_minor": 0,
  "metadata": {
    "colab": {
      "name": "EVA4_S15A_DenseDepth_400K.ipynb",
      "provenance": [],
      "collapsed_sections": [],
      "toc_visible": true,
      "machine_shape": "hm",
      "include_colab_link": true
    },
    "kernelspec": {
      "display_name": "Python 3",
      "language": "python",
      "name": "python3"
    },
    "language_info": {
      "codemirror_mode": {
        "name": "ipython",
        "version": 3
      },
      "file_extension": ".py",
      "mimetype": "text/x-python",
      "name": "python",
      "nbconvert_exporter": "python",
      "pygments_lexer": "ipython3",
      "version": "3.6.8"
    }
  },
  "cells": [
    {
      "cell_type": "markdown",
      "metadata": {
        "id": "view-in-github",
        "colab_type": "text"
      },
      "source": [
        "<a href=\"https://colab.research.google.com/github/sumankanukollu/denseDepthMaps_S15/blob/master/EVA4_S15A_DenseDepth_400K.ipynb\" target=\"_parent\"><img src=\"https://colab.research.google.com/assets/colab-badge.svg\" alt=\"Open In Colab\"/></a>"
      ]
    },
    {
      "cell_type": "markdown",
      "metadata": {
        "id": "8bqFGEnaaoE8",
        "colab_type": "text"
      },
      "source": [
        "# 1.  Mount drive"
      ]
    },
    {
      "cell_type": "code",
      "metadata": {
        "id": "fyC3pPj8jP0S",
        "colab_type": "code",
        "outputId": "f8c110fe-ca95-458d-871f-c9fc216159fa",
        "colab": {
          "base_uri": "https://localhost:8080/",
          "height": 121
        }
      },
      "source": [
        "from google.colab import drive\n",
        "drive.mount('/content/drive')"
      ],
      "execution_count": 1,
      "outputs": [
        {
          "output_type": "stream",
          "text": [
            "Go to this URL in a browser: https://accounts.google.com/o/oauth2/auth?client_id=947318989803-6bn6qk8qdgf4n4g3pfee6491hc0brc4i.apps.googleusercontent.com&redirect_uri=urn%3aietf%3awg%3aoauth%3a2.0%3aoob&response_type=code&scope=email%20https%3a%2f%2fwww.googleapis.com%2fauth%2fdocs.test%20https%3a%2f%2fwww.googleapis.com%2fauth%2fdrive%20https%3a%2f%2fwww.googleapis.com%2fauth%2fdrive.photos.readonly%20https%3a%2f%2fwww.googleapis.com%2fauth%2fpeopleapi.readonly\n",
            "\n",
            "Enter your authorization code:\n",
            "··········\n",
            "Mounted at /content/drive\n"
          ],
          "name": "stdout"
        }
      ]
    },
    {
      "cell_type": "markdown",
      "metadata": {
        "id": "X8vhUNFLaysR",
        "colab_type": "text"
      },
      "source": [
        "# 2. Install auto-time"
      ]
    },
    {
      "cell_type": "code",
      "metadata": {
        "id": "w5T6FstH8qq2",
        "colab_type": "code",
        "outputId": "ebe717fb-35f7-43b0-d672-dcac5729182a",
        "colab": {
          "base_uri": "https://localhost:8080/",
          "height": 188
        }
      },
      "source": [
        "!pip install ipython-autotime\n",
        "%load_ext autotime"
      ],
      "execution_count": 3,
      "outputs": [
        {
          "output_type": "stream",
          "text": [
            "Collecting ipython-autotime\n",
            "  Downloading https://files.pythonhosted.org/packages/e6/f9/0626bbdb322e3a078d968e87e3b01341e7890544de891d0cb613641220e6/ipython-autotime-0.1.tar.bz2\n",
            "Building wheels for collected packages: ipython-autotime\n",
            "  Building wheel for ipython-autotime (setup.py) ... \u001b[?25l\u001b[?25hdone\n",
            "  Created wheel for ipython-autotime: filename=ipython_autotime-0.1-cp36-none-any.whl size=1832 sha256=ccadc594f7cfcf158fbd3ecccc3bf45b9550509e47858af8666785bd0bea9389\n",
            "  Stored in directory: /root/.cache/pip/wheels/d2/df/81/2db1e54bc91002cec40334629bc39cfa86dff540b304ebcd6e\n",
            "Successfully built ipython-autotime\n",
            "Installing collected packages: ipython-autotime\n",
            "Successfully installed ipython-autotime-0.1\n"
          ],
          "name": "stdout"
        }
      ]
    },
    {
      "cell_type": "markdown",
      "metadata": {
        "id": "EsjyfXBSa58x",
        "colab_type": "text"
      },
      "source": [
        "# 3. Hardware details"
      ]
    },
    {
      "cell_type": "code",
      "metadata": {
        "id": "eirGMH-36pqM",
        "colab_type": "code",
        "outputId": "a014469f-a160-463b-c329-af641e7d0a2a",
        "colab": {
          "base_uri": "https://localhost:8080/",
          "height": 34
        }
      },
      "source": [
        "import torch\n",
        "print('PyTorch %s %s' % (torch.__version__, torch.cuda.get_device_properties(0) if torch.cuda.is_available() else 'CPU'))"
      ],
      "execution_count": 1,
      "outputs": [
        {
          "output_type": "stream",
          "text": [
            "PyTorch 1.5.0+cu101 _CudaDeviceProperties(name='Tesla P100-PCIE-16GB', major=6, minor=0, total_memory=16280MB, multi_processor_count=56)\n"
          ],
          "name": "stdout"
        }
      ]
    },
    {
      "cell_type": "code",
      "metadata": {
        "id": "QFZbu3PgEIiR",
        "colab_type": "code",
        "colab": {
          "base_uri": "https://localhost:8080/",
          "height": 34
        },
        "outputId": "73b83704-fd32-4c9f-e76f-d657f5f3a7b5"
      },
      "source": [
        "#!rm -rf denseDepthMaps_S15"
      ],
      "execution_count": 13,
      "outputs": [
        {
          "output_type": "stream",
          "text": [
            "time: 5.47 s\n"
          ],
          "name": "stdout"
        }
      ]
    },
    {
      "cell_type": "markdown",
      "metadata": {
        "id": "722M9b3VbIfK",
        "colab_type": "text"
      },
      "source": [
        "# 4. Clone our own Git hub repo "
      ]
    },
    {
      "cell_type": "code",
      "metadata": {
        "colab_type": "code",
        "id": "ahkR4C5dEnR0",
        "colab": {}
      },
      "source": [
        "import os\n",
        "#os.chdir('/content/drive/My Drive/EVA4/S15A_RCNN_RGB')\n",
        "#!git pull\n",
        "#!git clone https://github.com/sumankanukollu/denseDepthMaps_S15.git"
      ],
      "execution_count": 0,
      "outputs": []
    },
    {
      "cell_type": "code",
      "metadata": {
        "id": "BuPjmJAMGmW-",
        "colab_type": "code",
        "colab": {
          "base_uri": "https://localhost:8080/",
          "height": 218
        },
        "outputId": "afeced93-5857-40d6-ab82-ed45ea54c6bd"
      },
      "source": [
        "os.chdir('/content/drive/My Drive/EVA4/S15A_RCNN_RGB/denseDepthMaps_S15')\n",
        "!git pull"
      ],
      "execution_count": 113,
      "outputs": [
        {
          "output_type": "stream",
          "text": [
            "remote: Enumerating objects: 7, done.\u001b[K\n",
            "remote: Counting objects:  14% (1/7)\u001b[K\rremote: Counting objects:  28% (2/7)\u001b[K\rremote: Counting objects:  42% (3/7)\u001b[K\rremote: Counting objects:  57% (4/7)\u001b[K\rremote: Counting objects:  71% (5/7)\u001b[K\rremote: Counting objects:  85% (6/7)\u001b[K\rremote: Counting objects: 100% (7/7)\u001b[K\rremote: Counting objects: 100% (7/7), done.\u001b[K\n",
            "remote: Compressing objects:  50% (1/2)\u001b[K\rremote: Compressing objects: 100% (2/2)\u001b[K\rremote: Compressing objects: 100% (2/2), done.\u001b[K\n",
            "remote: Total 4 (delta 2), reused 4 (delta 2), pack-reused 0\u001b[K\n",
            "Unpacking objects:  25% (1/4)   \rUnpacking objects:  50% (2/4)   \rUnpacking objects:  75% (3/4)   \rUnpacking objects: 100% (4/4)   \rUnpacking objects: 100% (4/4), done.\n",
            "From https://github.com/sumankanukollu/denseDepthMaps_S15\n",
            "   f71ef15..efa45a6  master     -> origin/master\n",
            "Updating f71ef15..efa45a6\n",
            "Fast-forward\n",
            " DenseDepth/utils.py | 1 \u001b[32m+\u001b[m\n",
            " 1 file changed, 1 insertion(+)\n",
            "time: 4.09 s\n"
          ],
          "name": "stdout"
        }
      ]
    },
    {
      "cell_type": "markdown",
      "metadata": {
        "id": "XUTSbMWdblgb",
        "colab_type": "text"
      },
      "source": [
        "# 5. Download the pre-trained model"
      ]
    },
    {
      "cell_type": "code",
      "metadata": {
        "colab_type": "code",
        "id": "fFQgwMlNExak",
        "outputId": "b8472794-4ea7-4520-ca48-c34d96eaeedf",
        "colab": {
          "base_uri": "https://localhost:8080/",
          "height": 319
        }
      },
      "source": [
        "!ls\n",
        "import os\n",
        "os.chdir('/content/drive/My Drive/EVA4/S15A_RCNN_RGB/denseDepthMaps_S15')\n",
        "!wget https://s3-eu-west-1.amazonaws.com/densedepth/nyu.h5 -O ./DenseDepth/nyu.h5"
      ],
      "execution_count": 15,
      "outputs": [
        {
          "output_type": "stream",
          "text": [
            "bg_fg_mask_jpgIms\t       EVA4_S15A_Suman_800K.ipynb\n",
            "datasetPreparationSteps.ipynb  extract_BG_FG_Images.ipynb\n",
            "DenseDepth.ipynb\t       original_png_imgs\n",
            "denseDepthMaps_S15\t       resize.py\n",
            "depthMaps_segmentation\t       semantic_segmentation_on_Image_800K.ipynb\n",
            "EVA4_S15A_DenseDepth.ipynb\n",
            "--2020-05-10 05:34:24--  https://s3-eu-west-1.amazonaws.com/densedepth/nyu.h5\n",
            "Resolving s3-eu-west-1.amazonaws.com (s3-eu-west-1.amazonaws.com)... 52.218.53.226\n",
            "Connecting to s3-eu-west-1.amazonaws.com (s3-eu-west-1.amazonaws.com)|52.218.53.226|:443... connected.\n",
            "HTTP request sent, awaiting response... 200 OK\n",
            "Length: 172897376 (165M) [application/h5]\n",
            "Saving to: ‘./DenseDepth/nyu.h5’\n",
            "\n",
            "./DenseDepth/nyu.h5 100%[===================>] 164.89M  22.6MB/s    in 8.0s    \n",
            "\n",
            "2020-05-10 05:34:33 (20.7 MB/s) - ‘./DenseDepth/nyu.h5’ saved [172897376/172897376]\n",
            "\n",
            "time: 13.2 s\n"
          ],
          "name": "stdout"
        }
      ]
    },
    {
      "cell_type": "markdown",
      "metadata": {
        "id": "r32H1wiRcS9Y",
        "colab_type": "text"
      },
      "source": [
        "# 6. Change the directories and modified files like handy if needed\n",
        "\n"
      ]
    },
    {
      "cell_type": "code",
      "metadata": {
        "id": "7gXxW9mYaYXv",
        "colab_type": "code",
        "outputId": "9c4de303-5818-4dcf-82b1-5959e32243ea",
        "colab": {
          "base_uri": "https://localhost:8080/",
          "height": 118
        }
      },
      "source": [
        "os.chdir('/content/drive/My Drive/EVA4/S15A_RCNN_RGB/denseDepthMaps_S15/DenseDepth')\n",
        "!ls"
      ],
      "execution_count": 25,
      "outputs": [
        {
          "output_type": "stream",
          "text": [
            "augment.py\tdemo_rgb.npy\t      layers_bkp.py  nyu.h5\t  test_bkp.py\n",
            "callbacks.py\tDenseDepth_bkp.ipynb  layers.py      __pycache__  test.py\n",
            "data.py\t\tDenseDepth.ipynb      LICENSE\t     PyTorch\t  train.py\n",
            "demo_depth.npy\tevaluate.py\t      loss.py\t     README.md\t  utils_bkp.py\n",
            "demo.py\t\texamples\t      model.py\t     Tensorflow   utils.py\n",
            "time: 2.83 s\n"
          ],
          "name": "stdout"
        }
      ]
    },
    {
      "cell_type": "code",
      "metadata": {
        "colab_type": "code",
        "id": "AiJKd6uLE9Gr",
        "colab": {}
      },
      "source": [
        "import os,gc\n",
        "from google.colab import files\n",
        "from zipfile import ZipFile\n",
        "from PIL import Image\n",
        "#!ls\n",
        "os.chdir('/content/drive/My Drive/EVA4/S15A_RCNN_RGB/denseDepthMaps_S15/DenseDepth')"
      ],
      "execution_count": 0,
      "outputs": []
    },
    {
      "cell_type": "code",
      "metadata": {
        "id": "lU6tONwuo-aw",
        "colab_type": "code",
        "colab": {}
      },
      "source": [
        "#os.remove('layers.py')\n",
        "#src = list(files.upload().values())[0]\n",
        "#open('layers.py','wb').write(src)"
      ],
      "execution_count": 0,
      "outputs": []
    },
    {
      "cell_type": "code",
      "metadata": {
        "id": "IFbc2UlzpBBu",
        "colab_type": "code",
        "colab": {}
      },
      "source": [
        "#os.remove('utils.py')\n",
        "#src = list(files.upload().values())[0]\n",
        "#open('utils.py','wb').write(src)"
      ],
      "execution_count": 0,
      "outputs": []
    },
    {
      "cell_type": "code",
      "metadata": {
        "id": "PQDm2U3OpBvx",
        "colab_type": "code",
        "colab": {}
      },
      "source": [
        "#os.remove('test.py')\n",
        "#src = list(files.upload().values())[0]\n",
        "#open('test.py','wb').write(src)\n"
      ],
      "execution_count": 0,
      "outputs": []
    },
    {
      "cell_type": "markdown",
      "metadata": {
        "id": "BMlo1t24ij8k",
        "colab_type": "text"
      },
      "source": [
        "# Clear garbage and verify the number of depth map images generated, after each batch"
      ]
    },
    {
      "cell_type": "code",
      "metadata": {
        "id": "-V2yHXFxiEAc",
        "colab_type": "code",
        "colab": {}
      },
      "source": [
        "def verifyCount():\n",
        "    gc.enable()\n",
        "    gc.collect()\n",
        "    print('Total number of depthmap images generated as of now : {} '.format(len(os.listdir('/content/drive/My Drive/EVA4/S15A_RCNN_RGB/denseDepthMaps_S15/DenseDepth/depthMapOutput'))))\n",
        "verifyCount()"
      ],
      "execution_count": 0,
      "outputs": []
    },
    {
      "cell_type": "markdown",
      "metadata": {
        "id": "jUAcxG6Ccr9K",
        "colab_type": "text"
      },
      "source": [
        "# 7. Start execution in batches of 10K each batch"
      ]
    },
    {
      "cell_type": "code",
      "metadata": {
        "id": "wEWadiq3Z_wC",
        "colab_type": "code",
        "colab": {
          "base_uri": "https://localhost:8080/",
          "height": 34
        },
        "outputId": "bef650df-4c61-40c4-b4b2-a5e77684b4e2"
      },
      "source": [
        "os.chdir('/content/drive/My Drive/EVA4/S15A_RCNN_RGB/denseDepthMaps_S15/DenseDepth')"
      ],
      "execution_count": 114,
      "outputs": [
        {
          "output_type": "stream",
          "text": [
            "time: 2.15 ms\n"
          ],
          "name": "stdout"
        }
      ]
    },
    {
      "cell_type": "markdown",
      "metadata": {
        "id": "ZvhLuIcrqGJc",
        "colab_type": "text"
      },
      "source": [
        "## output_4.zip : batches"
      ]
    },
    {
      "cell_type": "markdown",
      "metadata": {
        "id": "AcnDGuTYqilz",
        "colab_type": "text"
      },
      "source": [
        "### Batches : 1"
      ]
    },
    {
      "cell_type": "code",
      "metadata": {
        "id": "jtXB7nNun-9I",
        "colab_type": "code",
        "colab": {}
      },
      "source": [
        "!python test.py --input '/content/drive/My Drive/EVA4/S15A_RCNN_RGB/bg_fg_mask_jpgIms/output_4.zip' --start 0 --end 5000 -o '/content/drive/My Drive/EVA4/S15A_RCNN_RGB/denseDepthMaps_S15/DenseDepth/depthMapOutput' -rs 0 -re 10001"
      ],
      "execution_count": 0,
      "outputs": []
    },
    {
      "cell_type": "markdown",
      "metadata": {
        "colab_type": "text",
        "id": "ZMYKMciXqtiG"
      },
      "source": [
        "### Batches : 2"
      ]
    },
    {
      "cell_type": "code",
      "metadata": {
        "id": "1XzgHtxJU8i_",
        "colab_type": "code",
        "colab": {}
      },
      "source": [
        "!python test.py --input '/content/drive/My Drive/EVA4/S15A_RCNN_RGB/bg_fg_mask_jpgIms/output_4.zip' --start 0 --end 5000 -o '/content/drive/My Drive/EVA4/S15A_RCNN_RGB/denseDepthMaps_S15/DenseDepth/depthMapOutput' -rs 10000 -re 20003"
      ],
      "execution_count": 0,
      "outputs": []
    },
    {
      "cell_type": "markdown",
      "metadata": {
        "colab_type": "text",
        "id": "s3udTV4NqwV0"
      },
      "source": [
        "### Batches : 3"
      ]
    },
    {
      "cell_type": "code",
      "metadata": {
        "colab_type": "code",
        "id": "0Ffo8XP2aYOy",
        "colab": {
          "base_uri": "https://localhost:8080/",
          "height": 406
        },
        "outputId": "3b5e6f54-ba42-48af-b2fa-4c7fee431209"
      },
      "source": [
        "!python test.py --input '/content/drive/My Drive/EVA4/S15A_RCNN_RGB/bg_fg_mask_jpgIms/output_4.zip' --start 0 --end 5000 -o '/content/drive/My Drive/EVA4/S15A_RCNN_RGB/denseDepthMaps_S15/DenseDepth/depthMapOutput' -rs 20000 -re 30001"
      ],
      "execution_count": 52,
      "outputs": [
        {
          "output_type": "stream",
          "text": [
            "Using TensorFlow backend.\n",
            "Loading model...\n",
            "\n",
            "Model loaded (nyu.h5).\n",
            "tcmalloc: large alloc 6021120000 bytes == 0x7f3845c10000 @  0x7f3aa20491e7 0x7f3a9ea3e5e1 0x7f3a9eaa2c78 0x7f3a9eaa2d93 0x7f3a9eb40ea8 0x7f3a9eb41704 0x7f3a9eb41852 0x566d63 0x59fc4e 0x7f3a9ea8e4ed 0x50a2bf 0x50bfb4 0x507d64 0x509a90 0x50a48d 0x50cd96 0x507d64 0x588e5c 0x59fc4e 0x7f3a9ea8e4ed 0x50a2bf 0x50bfb4 0x507d64 0x509a90 0x50a48d 0x50cd96 0x507d64 0x509a90 0x50a48d 0x50cd96 0x507d64\n",
            "\n",
            "Loaded (5000) images of size (224, 224, 3).\n",
            "tcmalloc: large alloc 6021120000 bytes == 0x7f34ed1d0000 @  0x7f3aa20491e7 0x7f3a9ea3e5e1 0x7f3a9eaa5420 0x7f3a9ea9a7d5 0x7f3a9eb2f497 0x50a635 0x50bfb4 0x507d64 0x50ae13 0x634c82 0x634d37 0x6384ef 0x639091 0x4b0d00 0x7f3aa1c46b97 0x5b250a\n",
            "/content/drive/My Drive/EVA4/S15A_RCNN_RGB/denseDepthMaps_S15/DenseDepth/utils.py:128: RuntimeWarning: More than 20 figures have been opened. Figures created through the pyplot interface (`matplotlib.pyplot.figure`) are retained until explicitly closed and may consume too much memory. (To control this warning, see the rcParam `figure.max_open_warning`).\n",
            "  plt.figure(figsize=(2.24,2.24),dpi=100)\n",
            "500\n",
            "1000\n",
            "1500\n",
            "2000\n",
            "2500\n",
            "3000\n",
            "3500\n",
            "4000\n",
            "4500\n",
            "5000\n",
            "done\n",
            "time: 9min 16s\n"
          ],
          "name": "stdout"
        }
      ]
    },
    {
      "cell_type": "code",
      "metadata": {
        "id": "SdOq1dwRTbc0",
        "colab_type": "code",
        "colab": {
          "base_uri": "https://localhost:8080/",
          "height": 50
        },
        "outputId": "0a0c5eb2-b7af-4537-99f8-56b511f18a08"
      },
      "source": [
        "print(len(os.listdir('/content/drive/My Drive/EVA4/S15A_RCNN_RGB/denseDepthMaps_S15/DenseDepth/depthMapOutput')))"
      ],
      "execution_count": 53,
      "outputs": [
        {
          "output_type": "stream",
          "text": [
            "15001\n",
            "time: 154 ms\n"
          ],
          "name": "stdout"
        }
      ]
    },
    {
      "cell_type": "markdown",
      "metadata": {
        "colab_type": "text",
        "id": "-YowH-m2qyJX"
      },
      "source": [
        "### Batches : 4"
      ]
    },
    {
      "cell_type": "code",
      "metadata": {
        "colab_type": "code",
        "outputId": "78e9c031-00af-48d8-fb77-cd388f874bc5",
        "id": "-LC3JclmdDLZ",
        "colab": {
          "base_uri": "https://localhost:8080/",
          "height": 406
        }
      },
      "source": [
        "!python test.py --input '/content/drive/My Drive/EVA4/S15A_RCNN_RGB/bg_fg_mask_jpgIms/output_4.zip' --start 0 --end 5000 -o '/content/drive/My Drive/EVA4/S15A_RCNN_RGB/denseDepthMaps_S15/DenseDepth/depthMapOutput' -rs 30000 -re 40001"
      ],
      "execution_count": 55,
      "outputs": [
        {
          "output_type": "stream",
          "text": [
            "Using TensorFlow backend.\n",
            "Loading model...\n",
            "\n",
            "Model loaded (nyu.h5).\n",
            "tcmalloc: large alloc 6021120000 bytes == 0x7f2f7a990000 @  0x7f31d6db51e7 0x7f31d37aa5e1 0x7f31d380ec78 0x7f31d380ed93 0x7f31d38acea8 0x7f31d38ad704 0x7f31d38ad852 0x566d63 0x59fc4e 0x7f31d37fa4ed 0x50a2bf 0x50bfb4 0x507d64 0x509a90 0x50a48d 0x50cd96 0x507d64 0x588e5c 0x59fc4e 0x7f31d37fa4ed 0x50a2bf 0x50bfb4 0x507d64 0x509a90 0x50a48d 0x50cd96 0x507d64 0x509a90 0x50a48d 0x50cd96 0x507d64\n",
            "\n",
            "Loaded (5000) images of size (224, 224, 3).\n",
            "tcmalloc: large alloc 6021120000 bytes == 0x7f2c151d0000 @  0x7f31d6db51e7 0x7f31d37aa5e1 0x7f31d3811420 0x7f31d38067d5 0x7f31d389b497 0x50a635 0x50bfb4 0x507d64 0x50ae13 0x634c82 0x634d37 0x6384ef 0x639091 0x4b0d00 0x7f31d69b2b97 0x5b250a\n",
            "/content/drive/My Drive/EVA4/S15A_RCNN_RGB/denseDepthMaps_S15/DenseDepth/utils.py:128: RuntimeWarning: More than 20 figures have been opened. Figures created through the pyplot interface (`matplotlib.pyplot.figure`) are retained until explicitly closed and may consume too much memory. (To control this warning, see the rcParam `figure.max_open_warning`).\n",
            "  plt.figure(figsize=(2.24,2.24),dpi=100)\n",
            "500\n",
            "1000\n",
            "1500\n",
            "2000\n",
            "2500\n",
            "3000\n",
            "3500\n",
            "4000\n",
            "4500\n",
            "5000\n",
            "done\n",
            "time: 9min 30s\n"
          ],
          "name": "stdout"
        }
      ]
    },
    {
      "cell_type": "code",
      "metadata": {
        "colab_type": "code",
        "outputId": "360947ca-ad27-4678-e0d9-b8b71500329b",
        "id": "OK7kFGVudIsk",
        "colab": {
          "base_uri": "https://localhost:8080/",
          "height": 50
        }
      },
      "source": [
        "print(len(os.listdir('/content/drive/My Drive/EVA4/S15A_RCNN_RGB/denseDepthMaps_S15/DenseDepth/depthMapOutput')))"
      ],
      "execution_count": 56,
      "outputs": [
        {
          "output_type": "stream",
          "text": [
            "20001\n",
            "time: 224 ms\n"
          ],
          "name": "stdout"
        }
      ]
    },
    {
      "cell_type": "markdown",
      "metadata": {
        "colab_type": "text",
        "id": "ZfyTz1J5q0Ol"
      },
      "source": [
        "### Batches : 5"
      ]
    },
    {
      "cell_type": "code",
      "metadata": {
        "id": "M_tQwIwyflYA",
        "colab_type": "code",
        "colab": {
          "base_uri": "https://localhost:8080/",
          "height": 423
        },
        "outputId": "088e4620-e922-4c3d-fea2-08502b08026b"
      },
      "source": [
        "!python test.py --input '/content/drive/My Drive/EVA4/S15A_RCNN_RGB/bg_fg_mask_jpgIms/output_4.zip' --start 0 --end 5000 -o '/content/drive/My Drive/EVA4/S15A_RCNN_RGB/denseDepthMaps_S15/DenseDepth/depthMapOutput' -rs 40000 -re 50001\n"
      ],
      "execution_count": 57,
      "outputs": [
        {
          "output_type": "stream",
          "text": [
            "Using TensorFlow backend.\n",
            "Loading model...\n",
            "\n",
            "Model loaded (nyu.h5).\n",
            "tcmalloc: large alloc 6021120000 bytes == 0x7feabf090000 @  0x7fed1b4af1e7 0x7fed17ea45e1 0x7fed17f08c78 0x7fed17f08d93 0x7fed17fa6ea8 0x7fed17fa7704 0x7fed17fa7852 0x566d63 0x59fc4e 0x7fed17ef44ed 0x50a2bf 0x50bfb4 0x507d64 0x509a90 0x50a48d 0x50cd96 0x507d64 0x588e5c 0x59fc4e 0x7fed17ef44ed 0x50a2bf 0x50bfb4 0x507d64 0x509a90 0x50a48d 0x50cd96 0x507d64 0x509a90 0x50a48d 0x50cd96 0x507d64\n",
            "\n",
            "Loaded (5000) images of size (224, 224, 3).\n",
            "tcmalloc: large alloc 6021120000 bytes == 0x7fe7671d0000 @  0x7fed1b4af1e7 0x7fed17ea45e1 0x7fed17f0b420 0x7fed17f007d5 0x7fed17f95497 0x50a635 0x50bfb4 0x507d64 0x50ae13 0x634c82 0x634d37 0x6384ef 0x639091 0x4b0d00 0x7fed1b0acb97 0x5b250a\n",
            "/content/drive/My Drive/EVA4/S15A_RCNN_RGB/denseDepthMaps_S15/DenseDepth/utils.py:128: RuntimeWarning: More than 20 figures have been opened. Figures created through the pyplot interface (`matplotlib.pyplot.figure`) are retained until explicitly closed and may consume too much memory. (To control this warning, see the rcParam `figure.max_open_warning`).\n",
            "  plt.figure(figsize=(2.24,2.24),dpi=100)\n",
            "500\n",
            "1000\n",
            "1500\n",
            "2000\n",
            "2500\n",
            "3000\n",
            "3500\n",
            "4000\n",
            "4500\n",
            "5000\n",
            "done\n",
            "25001\n",
            "time: 9min 33s\n"
          ],
          "name": "stdout"
        }
      ]
    },
    {
      "cell_type": "code",
      "metadata": {
        "id": "BpzXooXZh_Ss",
        "colab_type": "code",
        "colab": {
          "base_uri": "https://localhost:8080/",
          "height": 50
        },
        "outputId": "95677fd5-c88c-4283-85a6-60bce243f02d"
      },
      "source": [
        "print(len(os.listdir('/content/drive/My Drive/EVA4/S15A_RCNN_RGB/denseDepthMaps_S15/DenseDepth/depthMapOutput')))"
      ],
      "execution_count": 58,
      "outputs": [
        {
          "output_type": "stream",
          "text": [
            "25001\n",
            "time: 252 ms\n"
          ],
          "name": "stdout"
        }
      ]
    },
    {
      "cell_type": "markdown",
      "metadata": {
        "colab_type": "text",
        "id": "k9xSDSixq6uX"
      },
      "source": [
        "### Batches : 6"
      ]
    },
    {
      "cell_type": "code",
      "metadata": {
        "id": "1x1XXPOahqPB",
        "colab_type": "code",
        "colab": {
          "base_uri": "https://localhost:8080/",
          "height": 423
        },
        "outputId": "e077caf7-5844-4f61-b6b2-ca62a7a11d9b"
      },
      "source": [
        "!python test.py --input '/content/drive/My Drive/EVA4/S15A_RCNN_RGB/bg_fg_mask_jpgIms/output_4.zip' --start 0 --end 5000 -o '/content/drive/My Drive/EVA4/S15A_RCNN_RGB/denseDepthMaps_S15/DenseDepth/depthMapOutput' -rs 50000 -re 60001\n",
        "verifyCount()"
      ],
      "execution_count": 61,
      "outputs": [
        {
          "output_type": "stream",
          "text": [
            "Using TensorFlow backend.\n",
            "Loading model...\n",
            "\n",
            "Model loaded (nyu.h5).\n",
            "tcmalloc: large alloc 6021120000 bytes == 0x7f2269310000 @  0x7f24c57361e7 0x7f24c212b5e1 0x7f24c218fc78 0x7f24c218fd93 0x7f24c222dea8 0x7f24c222e704 0x7f24c222e852 0x566d63 0x59fc4e 0x7f24c217b4ed 0x50a2bf 0x50bfb4 0x507d64 0x509a90 0x50a48d 0x50cd96 0x507d64 0x588e5c 0x59fc4e 0x7f24c217b4ed 0x50a2bf 0x50bfb4 0x507d64 0x509a90 0x50a48d 0x50cd96 0x507d64 0x509a90 0x50a48d 0x50cd96 0x507d64\n",
            "\n",
            "Loaded (5000) images of size (224, 224, 3).\n",
            "tcmalloc: large alloc 6021120000 bytes == 0x7f1f031d0000 @  0x7f24c57361e7 0x7f24c212b5e1 0x7f24c2192420 0x7f24c21877d5 0x7f24c221c497 0x50a635 0x50bfb4 0x507d64 0x50ae13 0x634c82 0x634d37 0x6384ef 0x639091 0x4b0d00 0x7f24c5333b97 0x5b250a\n",
            "/content/drive/My Drive/EVA4/S15A_RCNN_RGB/denseDepthMaps_S15/DenseDepth/utils.py:128: RuntimeWarning: More than 20 figures have been opened. Figures created through the pyplot interface (`matplotlib.pyplot.figure`) are retained until explicitly closed and may consume too much memory. (To control this warning, see the rcParam `figure.max_open_warning`).\n",
            "  plt.figure(figsize=(2.24,2.24),dpi=100)\n",
            "500\n",
            "1000\n",
            "1500\n",
            "2000\n",
            "2500\n",
            "3000\n",
            "3500\n",
            "4000\n",
            "4500\n",
            "5000\n",
            "done\n",
            "Total number of depthmap images generated as of now : 30001 \n",
            "time: 9min 43s\n"
          ],
          "name": "stdout"
        }
      ]
    },
    {
      "cell_type": "markdown",
      "metadata": {
        "colab_type": "text",
        "id": "ta25q6HGq_CB"
      },
      "source": [
        "### Batches : 7"
      ]
    },
    {
      "cell_type": "code",
      "metadata": {
        "id": "-3nRAytdlMuy",
        "colab_type": "code",
        "colab": {
          "base_uri": "https://localhost:8080/",
          "height": 390
        },
        "outputId": "ad7bfc05-d511-45c8-de57-46caa1d73bcd"
      },
      "source": [
        "!python test.py --input '/content/drive/My Drive/EVA4/S15A_RCNN_RGB/bg_fg_mask_jpgIms/output_4.zip' --start 0 --end 5000 -o '/content/drive/My Drive/EVA4/S15A_RCNN_RGB/denseDepthMaps_S15/DenseDepth/depthMapOutput' -rs 60000 -re 70001\n",
        "verifyCount()"
      ],
      "execution_count": 71,
      "outputs": [
        {
          "output_type": "stream",
          "text": [
            "Using TensorFlow backend.\n",
            "Loading model...\n",
            "\n",
            "Model loaded (nyu.h5).\n",
            "tcmalloc: large alloc 6021120000 bytes == 0x7ff3baed0000 @  0x7ff6172ec1e7 0x7ff613ce15e1 0x7ff613d45c78 0x7ff613d45d93 0x7ff613de3ea8 0x7ff613de4704 0x7ff613de4852 0x566d63 0x59fc4e 0x7ff613d314ed 0x50a2bf 0x50bfb4 0x507d64 0x509a90 0x50a48d 0x50cd96 0x507d64 0x588e5c 0x59fc4e 0x7ff613d314ed 0x50a2bf 0x50bfb4 0x507d64 0x509a90 0x50a48d 0x50cd96 0x507d64 0x509a90 0x50a48d 0x50cd96 0x507d64\n",
            "\n",
            "Loaded (5000) images of size (224, 224, 3).\n",
            "tcmalloc: large alloc 6021120000 bytes == 0x7ff0631d0000 @  0x7ff6172ec1e7 0x7ff613ce15e1 0x7ff613d48420 0x7ff613d3d7d5 0x7ff613dd2497 0x50a635 0x50bfb4 0x507d64 0x50ae13 0x634c82 0x634d37 0x6384ef 0x639091 0x4b0d00 0x7ff616ee9b97 0x5b250a\n",
            "500\n",
            "1000\n",
            "1500\n",
            "2000\n",
            "2500\n",
            "3000\n",
            "3500\n",
            "4000\n",
            "4500\n",
            "5000\n",
            "done\n",
            "Total number of depthmap images generated as of now : 35001 \n",
            "time: 9min 33s\n"
          ],
          "name": "stdout"
        }
      ]
    },
    {
      "cell_type": "markdown",
      "metadata": {
        "colab_type": "text",
        "id": "nWxa8c_HwNRt"
      },
      "source": [
        "### Batches : 8"
      ]
    },
    {
      "cell_type": "code",
      "metadata": {
        "colab_type": "code",
        "outputId": "063eb0c7-1cf8-4ee4-d8fc-083a13381ff8",
        "id": "AG_gMHY5wNRy",
        "colab": {
          "base_uri": "https://localhost:8080/",
          "height": 390
        }
      },
      "source": [
        "!python test.py --input '/content/drive/My Drive/EVA4/S15A_RCNN_RGB/bg_fg_mask_jpgIms/output_4.zip' --start 0 --end 5000 -o '/content/drive/My Drive/EVA4/S15A_RCNN_RGB/denseDepthMaps_S15/DenseDepth/depthMapOutput' -rs 70000 -re 80001\n",
        "verifyCount()"
      ],
      "execution_count": 72,
      "outputs": [
        {
          "output_type": "stream",
          "text": [
            "Using TensorFlow backend.\n",
            "Loading model...\n",
            "\n",
            "Model loaded (nyu.h5).\n",
            "tcmalloc: large alloc 6021120000 bytes == 0x7f7a37b90000 @  0x7f7c93fbc1e7 0x7f7c909b15e1 0x7f7c90a15c78 0x7f7c90a15d93 0x7f7c90ab3ea8 0x7f7c90ab4704 0x7f7c90ab4852 0x566d63 0x59fc4e 0x7f7c90a014ed 0x50a2bf 0x50bfb4 0x507d64 0x509a90 0x50a48d 0x50cd96 0x507d64 0x588e5c 0x59fc4e 0x7f7c90a014ed 0x50a2bf 0x50bfb4 0x507d64 0x509a90 0x50a48d 0x50cd96 0x507d64 0x509a90 0x50a48d 0x50cd96 0x507d64\n",
            "\n",
            "Loaded (5000) images of size (224, 224, 3).\n",
            "tcmalloc: large alloc 6021120000 bytes == 0x7f76df1d0000 @  0x7f7c93fbc1e7 0x7f7c909b15e1 0x7f7c90a18420 0x7f7c90a0d7d5 0x7f7c90aa2497 0x50a635 0x50bfb4 0x507d64 0x50ae13 0x634c82 0x634d37 0x6384ef 0x639091 0x4b0d00 0x7f7c93bb9b97 0x5b250a\n",
            "500\n",
            "1000\n",
            "1500\n",
            "2000\n",
            "2500\n",
            "3000\n",
            "3500\n",
            "4000\n",
            "4500\n",
            "5000\n",
            "done\n",
            "Total number of depthmap images generated as of now : 40001 \n",
            "time: 9min 45s\n"
          ],
          "name": "stdout"
        }
      ]
    },
    {
      "cell_type": "markdown",
      "metadata": {
        "colab_type": "text",
        "id": "zGR1O7XA1WJa"
      },
      "source": [
        "## output_5.zip : batches"
      ]
    },
    {
      "cell_type": "markdown",
      "metadata": {
        "colab_type": "text",
        "id": "rb3iCUYD1WJe"
      },
      "source": [
        "### Batches : 1"
      ]
    },
    {
      "cell_type": "code",
      "metadata": {
        "colab_type": "code",
        "id": "Km9T6_3r1WJg",
        "colab": {
          "base_uri": "https://localhost:8080/",
          "height": 373
        },
        "outputId": "5c0fc52e-f52f-4de2-e300-fc76ca668566"
      },
      "source": [
        "!python test.py --input '/content/drive/My Drive/EVA4/S15A_RCNN_RGB/bg_fg_mask_jpgIms/output_5.zip' --start 0 --end 5000 -o '/content/drive/My Drive/EVA4/S15A_RCNN_RGB/denseDepthMaps_S15/DenseDepth/depthMapOutput' -rs 0 -re 10001 -b 50"
      ],
      "execution_count": 76,
      "outputs": [
        {
          "output_type": "stream",
          "text": [
            "Using TensorFlow backend.\n",
            "Loading model...\n",
            "\n",
            "Model loaded (nyu.h5).\n",
            "tcmalloc: large alloc 6021120000 bytes == 0x7f538ac50000 @  0x7f55e707f1e7 0x7f55e3a745e1 0x7f55e3ad8c78 0x7f55e3ad8d93 0x7f55e3b76ea8 0x7f55e3b77704 0x7f55e3b77852 0x566d63 0x59fc4e 0x7f55e3ac44ed 0x50a2bf 0x50bfb4 0x507d64 0x509a90 0x50a48d 0x50cd96 0x507d64 0x588e5c 0x59fc4e 0x7f55e3ac44ed 0x50a2bf 0x50bfb4 0x507d64 0x509a90 0x50a48d 0x50cd96 0x507d64 0x509a90 0x50a48d 0x50cd96 0x507d64\n",
            "\n",
            "Loaded (5000) images of size (224, 224, 3).\n",
            "tcmalloc: large alloc 6021120000 bytes == 0x7f50331d0000 @  0x7f55e707f1e7 0x7f55e3a745e1 0x7f55e3adb420 0x7f55e3ad07d5 0x7f55e3b65497 0x50a635 0x50bfb4 0x507d64 0x50ae13 0x634c82 0x634d37 0x6384ef 0x639091 0x4b0d00 0x7f55e6c7cb97 0x5b250a\n",
            "500\n",
            "1000\n",
            "1500\n",
            "2000\n",
            "2500\n",
            "3000\n",
            "3500\n",
            "4000\n",
            "4500\n",
            "5000\n",
            "done\n",
            "time: 9min 34s\n"
          ],
          "name": "stdout"
        }
      ]
    },
    {
      "cell_type": "code",
      "metadata": {
        "id": "ijiuUNz93R7n",
        "colab_type": "code",
        "colab": {
          "base_uri": "https://localhost:8080/",
          "height": 50
        },
        "outputId": "f1cb7db7-ab3b-4539-dbea-593cc7447e5a"
      },
      "source": [
        "verifyCount()"
      ],
      "execution_count": 77,
      "outputs": [
        {
          "output_type": "stream",
          "text": [
            "Total number of depthmap images generated as of now : 45001 \n",
            "time: 568 ms\n"
          ],
          "name": "stdout"
        }
      ]
    },
    {
      "cell_type": "markdown",
      "metadata": {
        "colab_type": "text",
        "id": "ih0atLmL5aNk"
      },
      "source": [
        "### Batches : 2"
      ]
    },
    {
      "cell_type": "code",
      "metadata": {
        "colab_type": "code",
        "outputId": "f0b5e3c7-9b03-43f3-a7ed-b403cabcf96c",
        "id": "lxhCo08G5aNn",
        "colab": {
          "base_uri": "https://localhost:8080/",
          "height": 390
        }
      },
      "source": [
        "!python test.py --input '/content/drive/My Drive/EVA4/S15A_RCNN_RGB/bg_fg_mask_jpgIms/output_5.zip' --start 0 --end 5000 -o '/content/drive/My Drive/EVA4/S15A_RCNN_RGB/denseDepthMaps_S15/DenseDepth/depthMapOutput' -rs 10000 -re 20001 -b 100\n",
        "verifyCount()"
      ],
      "execution_count": 78,
      "outputs": [
        {
          "output_type": "stream",
          "text": [
            "Using TensorFlow backend.\n",
            "Loading model...\n",
            "\n",
            "Model loaded (nyu.h5).\n",
            "tcmalloc: large alloc 6021120000 bytes == 0x7f2765950000 @  0x7f29c1de21e7 0x7f29be7d75e1 0x7f29be83bc78 0x7f29be83bd93 0x7f29be8d9ea8 0x7f29be8da704 0x7f29be8da852 0x566d63 0x59fc4e 0x7f29be8274ed 0x50a2bf 0x50bfb4 0x507d64 0x509a90 0x50a48d 0x50cd96 0x507d64 0x588e5c 0x59fc4e 0x7f29be8274ed 0x50a2bf 0x50bfb4 0x507d64 0x509a90 0x50a48d 0x50cd96 0x507d64 0x509a90 0x50a48d 0x50cd96 0x507d64\n",
            "\n",
            "Loaded (5000) images of size (224, 224, 3).\n",
            "tcmalloc: large alloc 6021120000 bytes == 0x7f23ff1d0000 @  0x7f29c1de21e7 0x7f29be7d75e1 0x7f29be83e420 0x7f29be8337d5 0x7f29be8c8497 0x50a635 0x50bfb4 0x507d64 0x50ae13 0x634c82 0x634d37 0x6384ef 0x639091 0x4b0d00 0x7f29c19dfb97 0x5b250a\n",
            "500\n",
            "1000\n",
            "1500\n",
            "2000\n",
            "2500\n",
            "3000\n",
            "3500\n",
            "4000\n",
            "4500\n",
            "5000\n",
            "done\n",
            "Total number of depthmap images generated as of now : 50001 \n",
            "time: 9min 32s\n"
          ],
          "name": "stdout"
        }
      ]
    },
    {
      "cell_type": "markdown",
      "metadata": {
        "colab_type": "text",
        "id": "um-0Km8o8aOj"
      },
      "source": [
        "### Batches : 3"
      ]
    },
    {
      "cell_type": "code",
      "metadata": {
        "colab_type": "code",
        "outputId": "bc4c625e-40a6-4988-f9c2-4194b561b3e1",
        "id": "FxlGcIaG8aOo",
        "colab": {
          "base_uri": "https://localhost:8080/",
          "height": 406
        }
      },
      "source": [
        "!python test.py --input '/content/drive/My Drive/EVA4/S15A_RCNN_RGB/bg_fg_mask_jpgIms/output_5.zip' --start 0 --end 5000 -o '/content/drive/My Drive/EVA4/S15A_RCNN_RGB/denseDepthMaps_S15/DenseDepth/depthMapOutput' -rs 20000 -re 30001 -b 200\n",
        "verifyCount()"
      ],
      "execution_count": 81,
      "outputs": [
        {
          "output_type": "stream",
          "text": [
            "Using TensorFlow backend.\n",
            "Loading model...\n",
            "\n",
            "Model loaded (nyu.h5).\n",
            "tcmalloc: large alloc 6021120000 bytes == 0x7f423e690000 @  0x7f449aac71e7 0x7f44974bc5e1 0x7f4497520c78 0x7f4497520d93 0x7f44975beea8 0x7f44975bf704 0x7f44975bf852 0x566d63 0x59fc4e 0x7f449750c4ed 0x50a2bf 0x50bfb4 0x507d64 0x509a90 0x50a48d 0x50cd96 0x507d64 0x588e5c 0x59fc4e 0x7f449750c4ed 0x50a2bf 0x50bfb4 0x507d64 0x509a90 0x50a48d 0x50cd96 0x507d64 0x509a90 0x50a48d 0x50cd96 0x507d64\n",
            "\n",
            "Loaded (5000) images of size (224, 224, 3).\n",
            "At batch sz : 200\n",
            "tcmalloc: large alloc 6021120000 bytes == 0x7f3d3f1d0000 @  0x7f449aac71e7 0x7f44974bc5e1 0x7f4497523420 0x7f44975187d5 0x7f44975ad497 0x50a635 0x50bfb4 0x507d64 0x50ae13 0x634c82 0x634d37 0x6384ef 0x639091 0x4b0d00 0x7f449a6c4b97 0x5b250a\n",
            "500\n",
            "1000\n",
            "1500\n",
            "2000\n",
            "2500\n",
            "3000\n",
            "3500\n",
            "4000\n",
            "4500\n",
            "5000\n",
            "done\n",
            "Total number of depthmap images generated as of now : 55001 \n",
            "time: 9min 49s\n"
          ],
          "name": "stdout"
        }
      ]
    },
    {
      "cell_type": "markdown",
      "metadata": {
        "colab_type": "text",
        "id": "qAmZXUL7-r4u"
      },
      "source": [
        "### Batches : 4"
      ]
    },
    {
      "cell_type": "code",
      "metadata": {
        "colab_type": "code",
        "outputId": "ca0dfdfb-8ccc-4cdc-b267-a2d397efa602",
        "id": "uS7lHEuK-r4v",
        "colab": {
          "base_uri": "https://localhost:8080/",
          "height": 406
        }
      },
      "source": [
        "!python test.py --input '/content/drive/My Drive/EVA4/S15A_RCNN_RGB/bg_fg_mask_jpgIms/output_5.zip' --start 0 --end 5000 -o '/content/drive/My Drive/EVA4/S15A_RCNN_RGB/denseDepthMaps_S15/DenseDepth/depthMapOutput' -rs 30000 -re 40001 -b 300\n",
        "verifyCount()"
      ],
      "execution_count": 83,
      "outputs": [
        {
          "output_type": "stream",
          "text": [
            "Using TensorFlow backend.\n",
            "Loading model...\n",
            "\n",
            "Model loaded (nyu.h5).\n",
            "tcmalloc: large alloc 6021120000 bytes == 0x7f742cad0000 @  0x7f7688eff1e7 0x7f76858f45e1 0x7f7685958c78 0x7f7685958d93 0x7f76859f6ea8 0x7f76859f7704 0x7f76859f7852 0x566d63 0x59fc4e 0x7f76859444ed 0x50a2bf 0x50bfb4 0x507d64 0x509a90 0x50a48d 0x50cd96 0x507d64 0x588e5c 0x59fc4e 0x7f76859444ed 0x50a2bf 0x50bfb4 0x507d64 0x509a90 0x50a48d 0x50cd96 0x507d64 0x509a90 0x50a48d 0x50cd96 0x507d64\n",
            "\n",
            "Loaded (5000) images of size (224, 224, 3).\n",
            "At batch sz : 300\n",
            "tcmalloc: large alloc 6021120000 bytes == 0x7f6f2d1d0000 @  0x7f7688eff1e7 0x7f76858f45e1 0x7f768595b420 0x7f76859507d5 0x7f76859e5497 0x50a635 0x50bfb4 0x507d64 0x50ae13 0x634c82 0x634d37 0x6384ef 0x639091 0x4b0d00 0x7f7688afcb97 0x5b250a\n",
            "500\n",
            "1000\n",
            "1500\n",
            "2000\n",
            "2500\n",
            "3000\n",
            "3500\n",
            "4000\n",
            "4500\n",
            "5000\n",
            "done\n",
            "Total number of depthmap images generated as of now : 60001 \n",
            "time: 10min 35s\n"
          ],
          "name": "stdout"
        }
      ]
    },
    {
      "cell_type": "markdown",
      "metadata": {
        "colab_type": "text",
        "id": "GHpnsrmqC6nl"
      },
      "source": [
        "### Batches : 5"
      ]
    },
    {
      "cell_type": "code",
      "metadata": {
        "colab_type": "code",
        "outputId": "cff7c20e-f3bf-4f9c-dcd8-fefdc20224da",
        "id": "Maao8rHnC6nq",
        "colab": {
          "base_uri": "https://localhost:8080/",
          "height": 423
        }
      },
      "source": [
        "!python test.py --input '/content/drive/My Drive/EVA4/S15A_RCNN_RGB/bg_fg_mask_jpgIms/output_5.zip' --start 0 --end 5000 -o '/content/drive/My Drive/EVA4/S15A_RCNN_RGB/denseDepthMaps_S15/DenseDepth/depthMapOutput' -rs 40000 -re 50001 -b 300\n",
        "verifyCount()"
      ],
      "execution_count": 87,
      "outputs": [
        {
          "output_type": "stream",
          "text": [
            "Using TensorFlow backend.\n",
            "Loading model...\n",
            "\n",
            "Model loaded (nyu.h5).\n",
            "tcmalloc: large alloc 6021120000 bytes == 0x7face5350000 @  0x7faf417791e7 0x7faf3e16e5e1 0x7faf3e1d2c78 0x7faf3e1d2d93 0x7faf3e270ea8 0x7faf3e271704 0x7faf3e271852 0x566d63 0x59fc4e 0x7faf3e1be4ed 0x50a2bf 0x50bfb4 0x507d64 0x509a90 0x50a48d 0x50cd96 0x507d64 0x588e5c 0x59fc4e 0x7faf3e1be4ed 0x50a2bf 0x50bfb4 0x507d64 0x509a90 0x50a48d 0x50cd96 0x507d64 0x509a90 0x50a48d 0x50cd96 0x507d64\n",
            "\n",
            "Loaded (5000) images of size (224, 224, 3).\n",
            "At batch sz : 300\n",
            "utils predict Duration: 0:00:58.510465\n",
            "tcmalloc: large alloc 6021120000 bytes == 0x7fa7e51d0000 @  0x7faf417791e7 0x7faf3e16e5e1 0x7faf3e1d5420 0x7faf3e1ca7d5 0x7faf3e25f497 0x50a635 0x50bfb4 0x507d64 0x50ae13 0x634c82 0x634d37 0x6384ef 0x639091 0x4b0d00 0x7faf41376b97 0x5b250a\n",
            "500\n",
            "1000\n",
            "1500\n",
            "2000\n",
            "2500\n",
            "3000\n",
            "3500\n",
            "4000\n",
            "4500\n",
            "5000\n",
            "done\n",
            "Total number of depthmap images generated as of now : 65001 \n",
            "time: 10min 48s\n"
          ],
          "name": "stdout"
        }
      ]
    },
    {
      "cell_type": "markdown",
      "metadata": {
        "colab_type": "text",
        "id": "n3Glv60LFmfj"
      },
      "source": [
        "### Batches : 6"
      ]
    },
    {
      "cell_type": "code",
      "metadata": {
        "colab_type": "code",
        "outputId": "3bc8bbe6-a9eb-4cc8-dee5-67cdf360c0be",
        "id": "4X0N-dCeFmfs",
        "colab": {
          "base_uri": "https://localhost:8080/",
          "height": 440
        }
      },
      "source": [
        "!python test.py --input '/content/drive/My Drive/EVA4/S15A_RCNN_RGB/bg_fg_mask_jpgIms/output_5.zip' --start 0 --end 5000 -o '/content/drive/My Drive/EVA4/S15A_RCNN_RGB/denseDepthMaps_S15/DenseDepth/depthMapOutput' -rs 50000 -re 60001 -b 304\n",
        "verifyCount()"
      ],
      "execution_count": 91,
      "outputs": [
        {
          "output_type": "stream",
          "text": [
            "Using TensorFlow backend.\n",
            "Loading model...\n",
            "Duration: 0:00:12.412128\n",
            "\n",
            "Model loaded (nyu.h5).\n",
            "tcmalloc: large alloc 6021120000 bytes == 0x7f1c81590000 @  0x7f1edd9cc1e7 0x7f1eda3c15e1 0x7f1eda425c78 0x7f1eda425d93 0x7f1eda4c3ea8 0x7f1eda4c4704 0x7f1eda4c4852 0x566d63 0x59fc4e 0x7f1eda4114ed 0x50a2bf 0x50bfb4 0x507d64 0x509a90 0x50a48d 0x50cd96 0x507d64 0x588e5c 0x59fc4e 0x7f1eda4114ed 0x50a2bf 0x50bfb4 0x507d64 0x509a90 0x50a48d 0x50cd96 0x507d64 0x509a90 0x50a48d 0x50cd96 0x507d64\n",
            "\n",
            "Loaded (5000) images of size (224, 224, 3).\n",
            "At batch sz : 304\n",
            "utils predict Duration: 0:00:56.965842\n",
            "tcmalloc: large alloc 6021120000 bytes == 0x7f17731d0000 @  0x7f1edd9cc1e7 0x7f1eda3c15e1 0x7f1eda428420 0x7f1eda41d7d5 0x7f1eda4b2497 0x50a635 0x50bfb4 0x507d64 0x50ae13 0x634c82 0x634d37 0x6384ef 0x639091 0x4b0d00 0x7f1edd5c9b97 0x5b250a\n",
            "500\n",
            "1000\n",
            "1500\n",
            "2000\n",
            "2500\n",
            "3000\n",
            "3500\n",
            "4000\n",
            "4500\n",
            "5000\n",
            "done\n",
            "Total number of depthmap images generated as of now : 70001 \n",
            "time: 11min 18s\n"
          ],
          "name": "stdout"
        }
      ]
    },
    {
      "cell_type": "markdown",
      "metadata": {
        "colab_type": "text",
        "id": "-Fim9GeMIqtD"
      },
      "source": [
        "### Batches : 7"
      ]
    },
    {
      "cell_type": "code",
      "metadata": {
        "colab_type": "code",
        "outputId": "2c67345f-ad0e-41f7-a538-10a3de382288",
        "id": "B8DcTDX-IqtL",
        "colab": {
          "base_uri": "https://localhost:8080/",
          "height": 490
        }
      },
      "source": [
        "!python test.py --input '/content/drive/My Drive/EVA4/S15A_RCNN_RGB/bg_fg_mask_jpgIms/output_5.zip' --start 0 --end 5000 -o '/content/drive/My Drive/EVA4/S15A_RCNN_RGB/denseDepthMaps_S15/DenseDepth/depthMapOutput' -rs 60000 -re 70001 -b 304\n",
        "verifyCount()"
      ],
      "execution_count": 94,
      "outputs": [
        {
          "output_type": "stream",
          "text": [
            "Using TensorFlow backend.\n",
            "Loading model...\n",
            "### Step-1: Time took to load model : 0:00:11.998196\n",
            "\n",
            "Model loaded (nyu.h5).\n",
            "tcmalloc: large alloc 6021120000 bytes == 0x7f20d3090000 @  0x7f232f4bc1e7 0x7f232beb15e1 0x7f232bf15c78 0x7f232bf15d93 0x7f232bfb3ea8 0x7f232bfb4704 0x7f232bfb4852 0x566d63 0x59fc4e 0x7f232bf014ed 0x50a2bf 0x50bfb4 0x507d64 0x509a90 0x50a48d 0x50cd96 0x507d64 0x588e5c 0x59fc4e 0x7f232bf014ed 0x50a2bf 0x50bfb4 0x507d64 0x509a90 0x50a48d 0x50cd96 0x507d64 0x509a90 0x50a48d 0x50cd96 0x507d64\n",
            "\n",
            "Loaded (5000) images of size (224, 224, 3).\n",
            "### Step-2: Time took to load Images : 0:00:57.230690\n",
            "At batch sz : 304\n",
            "utils predict Duration: 0:00:56.948307\n",
            "### Step-3: Time took to compute results : 0:00:57.194098\n",
            "tcmalloc: large alloc 6021120000 bytes == 0x7f1bd31d0000 @  0x7f232f4bc1e7 0x7f232beb15e1 0x7f232bf18420 0x7f232bf0d7d5 0x7f232bfa2497 0x50a635 0x50bfb4 0x507d64 0x50ae13 0x634c82 0x634d37 0x6384ef 0x639091 0x4b0d00 0x7f232f0b9b97 0x5b250a\n",
            "500\n",
            "1000\n",
            "1500\n",
            "2000\n",
            "2500\n",
            "3000\n",
            "3500\n",
            "4000\n",
            "4500\n",
            "5000\n",
            "### Step-4: Time took to Display results : 0:09:05.334865\n",
            "done\n",
            "Total number of depthmap images generated as of now : 75001 \n",
            "time: 11min 31s\n"
          ],
          "name": "stdout"
        }
      ]
    },
    {
      "cell_type": "markdown",
      "metadata": {
        "colab_type": "text",
        "id": "u4q5N0WNLd7J"
      },
      "source": [
        "### Batches : 8"
      ]
    },
    {
      "cell_type": "code",
      "metadata": {
        "colab_type": "code",
        "outputId": "52e5e398-b76e-40d5-d5f3-25e8b2fdc92f",
        "id": "ZTXwAeOgLd7K",
        "colab": {
          "base_uri": "https://localhost:8080/",
          "height": 490
        }
      },
      "source": [
        "!python test.py --input '/content/drive/My Drive/EVA4/S15A_RCNN_RGB/bg_fg_mask_jpgIms/output_5.zip' --start 0 --end 5000 -o '/content/drive/My Drive/EVA4/S15A_RCNN_RGB/denseDepthMaps_S15/DenseDepth/depthMapOutput' -rs 70000 -re 80001 -b 336\n",
        "verifyCount()"
      ],
      "execution_count": 95,
      "outputs": [
        {
          "output_type": "stream",
          "text": [
            "Using TensorFlow backend.\n",
            "Loading model...\n",
            "### Step-1: Time took to load model : 0:00:12.042083\n",
            "\n",
            "Model loaded (nyu.h5).\n",
            "tcmalloc: large alloc 6021120000 bytes == 0x7fa70ed90000 @  0x7fa96b1db1e7 0x7fa967bd05e1 0x7fa967c34c78 0x7fa967c34d93 0x7fa967cd2ea8 0x7fa967cd3704 0x7fa967cd3852 0x566d63 0x59fc4e 0x7fa967c204ed 0x50a2bf 0x50bfb4 0x507d64 0x509a90 0x50a48d 0x50cd96 0x507d64 0x588e5c 0x59fc4e 0x7fa967c204ed 0x50a2bf 0x50bfb4 0x507d64 0x509a90 0x50a48d 0x50cd96 0x507d64 0x509a90 0x50a48d 0x50cd96 0x507d64\n",
            "\n",
            "Loaded (5000) images of size (224, 224, 3).\n",
            "### Step-2: Time took to load Images : 0:01:03.684425\n",
            "At batch sz : 336\n",
            "utils predict Duration: 0:01:01.454207\n",
            "### Step-3: Time took to compute results : 0:01:01.666060\n",
            "tcmalloc: large alloc 6021120000 bytes == 0x7fa0df1d0000 @  0x7fa96b1db1e7 0x7fa967bd05e1 0x7fa967c37420 0x7fa967c2c7d5 0x7fa967cc1497 0x50a635 0x50bfb4 0x507d64 0x50ae13 0x634c82 0x634d37 0x6384ef 0x639091 0x4b0d00 0x7fa96add8b97 0x5b250a\n",
            "500\n",
            "1000\n",
            "1500\n",
            "2000\n",
            "2500\n",
            "3000\n",
            "3500\n",
            "4000\n",
            "4500\n",
            "5000\n",
            "### Step-4: Time took to Display results : 0:08:30.086184\n",
            "done\n",
            "Total number of depthmap images generated as of now : 80001 \n",
            "time: 11min 7s\n"
          ],
          "name": "stdout"
        }
      ]
    },
    {
      "cell_type": "markdown",
      "metadata": {
        "colab_type": "text",
        "id": "InPbAPbwOYyH"
      },
      "source": [
        "## output_6.zip : \n",
        "* RAM Usage is heiht : with batches with dataset = 16K instead of 10K (nd 8K instead of 5K)"
      ]
    },
    {
      "cell_type": "markdown",
      "metadata": {
        "colab_type": "text",
        "id": "JIEo8Y9YOYyI"
      },
      "source": [
        "### Batches : 1"
      ]
    },
    {
      "cell_type": "code",
      "metadata": {
        "colab_type": "code",
        "outputId": "bd2d1d82-538a-442b-d00e-a1964a9c3752",
        "id": "BsubIPgQOYyI",
        "colab": {
          "base_uri": "https://localhost:8080/",
          "height": 490
        }
      },
      "source": [
        "!python test.py --input '/content/drive/My Drive/EVA4/S15A_RCNN_RGB/bg_fg_mask_jpgIms/output_6.zip' --start 0 --end 5000 -o '/content/drive/My Drive/EVA4/S15A_RCNN_RGB/denseDepthMaps_S15/DenseDepth/depthMapOutput' -rs 0 -re 10001 -b 336\n",
        "verifyCount()"
      ],
      "execution_count": 100,
      "outputs": [
        {
          "output_type": "stream",
          "text": [
            "Using TensorFlow backend.\n",
            "Loading model...\n",
            "### Step-1: Time took to load model : 0:00:12.551899\n",
            "\n",
            "Model loaded (nyu.h5).\n",
            "tcmalloc: large alloc 6021120000 bytes == 0x7feafa190000 @  0x7fed565c31e7 0x7fed52fb85e1 0x7fed5301cc78 0x7fed5301cd93 0x7fed530baea8 0x7fed530bb704 0x7fed530bb852 0x566d63 0x59fc4e 0x7fed530084ed 0x50a2bf 0x50bfb4 0x507d64 0x509a90 0x50a48d 0x50cd96 0x507d64 0x588e5c 0x59fc4e 0x7fed530084ed 0x50a2bf 0x50bfb4 0x507d64 0x509a90 0x50a48d 0x50cd96 0x507d64 0x509a90 0x50a48d 0x50cd96 0x507d64\n",
            "\n",
            "Loaded (5000) images of size (224, 224, 3).\n",
            "### Step-2: Time took to load Images : 0:00:51.383947\n",
            "At batch sz : 336\n",
            "utils predict Duration: 0:01:01.562873\n",
            "### Step-3: Time took to compute results : 0:01:01.779726\n",
            "tcmalloc: large alloc 6021120000 bytes == 0x7fe4cb1d0000 @  0x7fed565c31e7 0x7fed52fb85e1 0x7fed5301f420 0x7fed530147d5 0x7fed530a9497 0x50a635 0x50bfb4 0x507d64 0x50ae13 0x634c82 0x634d37 0x6384ef 0x639091 0x4b0d00 0x7fed561c0b97 0x5b250a\n",
            "500\n",
            "1000\n",
            "1500\n",
            "2000\n",
            "2500\n",
            "3000\n",
            "3500\n",
            "4000\n",
            "4500\n",
            "5000\n",
            "### Step-4: Time took to Display results : 0:07:34.841941\n",
            "done\n",
            "Total number of depthmap images generated as of now : 85001 \n",
            "time: 10min\n"
          ],
          "name": "stdout"
        }
      ]
    },
    {
      "cell_type": "markdown",
      "metadata": {
        "colab_type": "text",
        "id": "e1M2zxEbWDcK"
      },
      "source": [
        "### Batches : 2"
      ]
    },
    {
      "cell_type": "code",
      "metadata": {
        "colab_type": "code",
        "outputId": "33087493-4134-4316-a1fe-94c165a003bf",
        "id": "LuwnP9iZWDcN",
        "colab": {
          "base_uri": "https://localhost:8080/",
          "height": 490
        }
      },
      "source": [
        "!python test.py --input '/content/drive/My Drive/EVA4/S15A_RCNN_RGB/bg_fg_mask_jpgIms/output_6.zip' --start 0 --end 5000 -o '/content/drive/My Drive/EVA4/S15A_RCNN_RGB/denseDepthMaps_S15/DenseDepth/depthMapOutput' -rs 10000 -re 20001 -b 368\n",
        "verifyCount()"
      ],
      "execution_count": 101,
      "outputs": [
        {
          "output_type": "stream",
          "text": [
            "Using TensorFlow backend.\n",
            "Loading model...\n",
            "### Step-1: Time took to load model : 0:00:12.967651\n",
            "\n",
            "Model loaded (nyu.h5).\n",
            "tcmalloc: large alloc 6021120000 bytes == 0x7f4c2e050000 @  0x7f4e8a4921e7 0x7f4e86e875e1 0x7f4e86eebc78 0x7f4e86eebd93 0x7f4e86f89ea8 0x7f4e86f8a704 0x7f4e86f8a852 0x566d63 0x59fc4e 0x7f4e86ed74ed 0x50a2bf 0x50bfb4 0x507d64 0x509a90 0x50a48d 0x50cd96 0x507d64 0x588e5c 0x59fc4e 0x7f4e86ed74ed 0x50a2bf 0x50bfb4 0x507d64 0x509a90 0x50a48d 0x50cd96 0x507d64 0x509a90 0x50a48d 0x50cd96 0x507d64\n",
            "\n",
            "Loaded (5000) images of size (224, 224, 3).\n",
            "### Step-2: Time took to load Images : 0:00:53.158642\n",
            "At batch sz : 368\n",
            "utils predict Duration: 0:00:59.986258\n",
            "### Step-3: Time took to compute results : 0:01:00.210209\n",
            "tcmalloc: large alloc 6021120000 bytes == 0x7f45f11d0000 @  0x7f4e8a4921e7 0x7f4e86e875e1 0x7f4e86eee420 0x7f4e86ee37d5 0x7f4e86f78497 0x50a635 0x50bfb4 0x507d64 0x50ae13 0x634c82 0x634d37 0x6384ef 0x639091 0x4b0d00 0x7f4e8a08fb97 0x5b250a\n",
            "500\n",
            "1000\n",
            "1500\n",
            "2000\n",
            "2500\n",
            "3000\n",
            "3500\n",
            "4000\n",
            "4500\n",
            "5000\n",
            "### Step-4: Time took to Display results : 0:07:57.057143\n",
            "done\n",
            "Total number of depthmap images generated as of now : 90001 \n",
            "time: 10min 25s\n"
          ],
          "name": "stdout"
        }
      ]
    },
    {
      "cell_type": "markdown",
      "metadata": {
        "colab_type": "text",
        "id": "BHu5d5N0YNvH"
      },
      "source": [
        "### Batches : 3"
      ]
    },
    {
      "cell_type": "code",
      "metadata": {
        "colab_type": "code",
        "outputId": "4529c2f8-849f-4578-b7f0-452ffe575e93",
        "id": "vZ91dBShYQJ4",
        "colab": {
          "base_uri": "https://localhost:8080/",
          "height": 490
        }
      },
      "source": [
        "!python test.py --input '/content/drive/My Drive/EVA4/S15A_RCNN_RGB/bg_fg_mask_jpgIms/output_6.zip' --start 0 --end 5000 -o '/content/drive/My Drive/EVA4/S15A_RCNN_RGB/denseDepthMaps_S15/DenseDepth/depthMapOutput' -rs 20000 -re 30001 -b 368\n",
        "verifyCount()"
      ],
      "execution_count": 102,
      "outputs": [
        {
          "output_type": "stream",
          "text": [
            "Using TensorFlow backend.\n",
            "Loading model...\n",
            "### Step-1: Time took to load model : 0:00:12.664964\n",
            "\n",
            "Model loaded (nyu.h5).\n",
            "tcmalloc: large alloc 6021120000 bytes == 0x7f5f19050000 @  0x7f61754461e7 0x7f6171e3b5e1 0x7f6171e9fc78 0x7f6171e9fd93 0x7f6171f3dea8 0x7f6171f3e704 0x7f6171f3e852 0x566d63 0x59fc4e 0x7f6171e8b4ed 0x50a2bf 0x50bfb4 0x507d64 0x509a90 0x50a48d 0x50cd96 0x507d64 0x588e5c 0x59fc4e 0x7f6171e8b4ed 0x50a2bf 0x50bfb4 0x507d64 0x509a90 0x50a48d 0x50cd96 0x507d64 0x509a90 0x50a48d 0x50cd96 0x507d64\n",
            "\n",
            "Loaded (5000) images of size (224, 224, 3).\n",
            "### Step-2: Time took to load Images : 0:00:53.385605\n",
            "At batch sz : 368\n",
            "utils predict Duration: 0:00:59.924398\n",
            "### Step-3: Time took to compute results : 0:01:00.134921\n",
            "tcmalloc: large alloc 6021120000 bytes == 0x7f58db1d0000 @  0x7f61754461e7 0x7f6171e3b5e1 0x7f6171ea2420 0x7f6171e977d5 0x7f6171f2c497 0x50a635 0x50bfb4 0x507d64 0x50ae13 0x634c82 0x634d37 0x6384ef 0x639091 0x4b0d00 0x7f6175043b97 0x5b250a\n",
            "500\n",
            "1000\n",
            "1500\n",
            "2000\n",
            "2500\n",
            "3000\n",
            "3500\n",
            "4000\n",
            "4500\n",
            "5000\n",
            "### Step-4: Time took to Display results : 0:08:24.579267\n",
            "done\n",
            "Total number of depthmap images generated as of now : 95001 \n",
            "time: 10min 50s\n"
          ],
          "name": "stdout"
        }
      ]
    },
    {
      "cell_type": "markdown",
      "metadata": {
        "colab_type": "text",
        "id": "Uflx0lrhYN_K"
      },
      "source": [
        "### Batches : 4"
      ]
    },
    {
      "cell_type": "code",
      "metadata": {
        "colab_type": "code",
        "outputId": "1c90f57e-9b87-4f72-ce89-767871e20160",
        "id": "ol9jMMRrYP-u",
        "colab": {
          "base_uri": "https://localhost:8080/",
          "height": 490
        }
      },
      "source": [
        "!python test.py --input '/content/drive/My Drive/EVA4/S15A_RCNN_RGB/bg_fg_mask_jpgIms/output_6.zip' --start 0 --end 5000 -o '/content/drive/My Drive/EVA4/S15A_RCNN_RGB/denseDepthMaps_S15/DenseDepth/depthMapOutput' -rs 30000 -re 40001 -b 368\n",
        "verifyCount()"
      ],
      "execution_count": 103,
      "outputs": [
        {
          "output_type": "stream",
          "text": [
            "Using TensorFlow backend.\n",
            "Loading model...\n",
            "### Step-1: Time took to load model : 0:00:12.498628\n",
            "\n",
            "Model loaded (nyu.h5).\n",
            "tcmalloc: large alloc 6021120000 bytes == 0x7fa05e410000 @  0x7fa2ba8671e7 0x7fa2b725c5e1 0x7fa2b72c0c78 0x7fa2b72c0d93 0x7fa2b735eea8 0x7fa2b735f704 0x7fa2b735f852 0x566d63 0x59fc4e 0x7fa2b72ac4ed 0x50a2bf 0x50bfb4 0x507d64 0x509a90 0x50a48d 0x50cd96 0x507d64 0x588e5c 0x59fc4e 0x7fa2b72ac4ed 0x50a2bf 0x50bfb4 0x507d64 0x509a90 0x50a48d 0x50cd96 0x507d64 0x509a90 0x50a48d 0x50cd96 0x507d64\n",
            "\n",
            "Loaded (5000) images of size (224, 224, 3).\n",
            "### Step-2: Time took to load Images : 0:00:57.480193\n",
            "At batch sz : 368\n",
            "utils predict Duration: 0:00:59.976153\n",
            "### Step-3: Time took to compute results : 0:01:00.198982\n",
            "tcmalloc: large alloc 6021120000 bytes == 0x7f9a2f1d0000 @  0x7fa2ba8671e7 0x7fa2b725c5e1 0x7fa2b72c3420 0x7fa2b72b87d5 0x7fa2b734d497 0x50a635 0x50bfb4 0x507d64 0x50ae13 0x634c82 0x634d37 0x6384ef 0x639091 0x4b0d00 0x7fa2ba464b97 0x5b250a\n",
            "500\n",
            "1000\n",
            "1500\n",
            "2000\n",
            "2500\n",
            "3000\n",
            "3500\n",
            "4000\n",
            "4500\n",
            "5000\n",
            "### Step-4: Time took to Display results : 0:08:18.662058\n",
            "done\n",
            "Total number of depthmap images generated as of now : 100001 \n",
            "time: 10min 48s\n"
          ],
          "name": "stdout"
        }
      ]
    },
    {
      "cell_type": "markdown",
      "metadata": {
        "colab_type": "text",
        "id": "75nPi17IYOWJ"
      },
      "source": [
        "### Batches : 5"
      ]
    },
    {
      "cell_type": "code",
      "metadata": {
        "colab_type": "code",
        "outputId": "656c9fed-05bb-448c-8c43-3983085cb3ad",
        "id": "qTJdlOYPYPrZ",
        "colab": {
          "base_uri": "https://localhost:8080/",
          "height": 490
        }
      },
      "source": [
        "!python test.py --input '/content/drive/My Drive/EVA4/S15A_RCNN_RGB/bg_fg_mask_jpgIms/output_6.zip' --start 0 --end 5000 -o '/content/drive/My Drive/EVA4/S15A_RCNN_RGB/denseDepthMaps_S15/DenseDepth/depthMapOutput' -rs 40000 -re 50001 -b 368\n",
        "verifyCount()"
      ],
      "execution_count": 112,
      "outputs": [
        {
          "output_type": "stream",
          "text": [
            "Using TensorFlow backend.\n",
            "Loading model...\n",
            "### Step-1: Time took to load model : 0:00:12.404474\n",
            "\n",
            "Model loaded (nyu.h5).\n",
            "tcmalloc: large alloc 6021120000 bytes == 0x7fe943c10000 @  0x7feba8ca31e7 0x7feba56985e1 0x7feba56fcc78 0x7feba56fcd93 0x7feba579aea8 0x7feba579b704 0x7feba579b852 0x566d63 0x59fc4e 0x7feba56e84ed 0x50a2bf 0x50bfb4 0x507d64 0x509a90 0x50a48d 0x50cd96 0x507d64 0x588e5c 0x59fc4e 0x7feba56e84ed 0x50a2bf 0x50bfb4 0x507d64 0x509a90 0x50a48d 0x50cd96 0x507d64 0x509a90 0x50a48d 0x50cd96 0x507d64\n",
            "\n",
            "Loaded (5000) images of size (224, 224, 3).\n",
            "### Step-2: Time took to load Images : 0:00:56.091842\n",
            "At batch sz : 368\n",
            "utils predict Duration: 0:00:59.694877\n",
            "### Step-3: Time took to compute results : 0:00:59.916553\n",
            "tcmalloc: large alloc 6021120000 bytes == 0x7fe3131d0000 @  0x7feba8ca31e7 0x7feba56985e1 0x7feba56ff420 0x7feba56f47d5 0x7feba5789497 0x50a635 0x50bfb4 0x507d64 0x50ae13 0x634c82 0x634d37 0x6384ef 0x639091 0x4b0d00 0x7feba88a0b97 0x5b250a\n",
            "500\n",
            "1000\n",
            "1500\n",
            "2000\n",
            "2500\n",
            "3000\n",
            "3500\n",
            "4000\n",
            "4500\n",
            "5000\n",
            "### Step-4: Time took to Display results : 0:08:37.422238\n",
            "done\n",
            "Total number of depthmap images generated as of now : 105001 \n",
            "time: 11min 6s\n"
          ],
          "name": "stdout"
        }
      ]
    },
    {
      "cell_type": "markdown",
      "metadata": {
        "colab_type": "text",
        "id": "rLKSrRTfYPrW"
      },
      "source": [
        "### Batches : 6"
      ]
    },
    {
      "cell_type": "code",
      "metadata": {
        "colab_type": "code",
        "outputId": "49f2f53f-f05d-42bc-e5ae-47959b944de5",
        "id": "kyY1aC3LYOWL",
        "colab": {
          "base_uri": "https://localhost:8080/",
          "height": 490
        }
      },
      "source": [
        "!python test.py --input '/content/drive/My Drive/EVA4/S15A_RCNN_RGB/bg_fg_mask_jpgIms/output_6.zip' --start 0 --end 5000 -o '/content/drive/My Drive/EVA4/S15A_RCNN_RGB/denseDepthMaps_S15/DenseDepth/depthMapOutput' -rs 50000 -re 60001 -b 368\n",
        "verifyCount()"
      ],
      "execution_count": 115,
      "outputs": [
        {
          "output_type": "stream",
          "text": [
            "Using TensorFlow backend.\n",
            "Loading model...\n",
            "### Step-1: Time took to load model : 0:00:12.613759\n",
            "\n",
            "Model loaded (nyu.h5).\n",
            "tcmalloc: large alloc 6021120000 bytes == 0x7f0365d50000 @  0x7f05cae0d1e7 0x7f05c78025e1 0x7f05c7866c78 0x7f05c7866d93 0x7f05c7904ea8 0x7f05c7905704 0x7f05c7905852 0x566d63 0x59fc4e 0x7f05c78524ed 0x50a2bf 0x50bfb4 0x507d64 0x509a90 0x50a48d 0x50cd96 0x507d64 0x588e5c 0x59fc4e 0x7f05c78524ed 0x50a2bf 0x50bfb4 0x507d64 0x509a90 0x50a48d 0x50cd96 0x507d64 0x509a90 0x50a48d 0x50cd96 0x507d64\n",
            "\n",
            "Loaded (5000) images of size (224, 224, 3).\n",
            "### Step-2: Time took to load Images : 0:00:58.505678\n",
            "At batch sz : 368\n",
            "utils predict Duration: 0:00:59.942965\n",
            "### Step-3: Time took to compute results : 0:01:00.168242\n",
            "tcmalloc: large alloc 6021120000 bytes == 0x7efd271d0000 @  0x7f05cae0d1e7 0x7f05c78025e1 0x7f05c7869420 0x7f05c785e7d5 0x7f05c78f3497 0x50a635 0x50bfb4 0x507d64 0x50ae13 0x634c82 0x634d37 0x6384ef 0x639091 0x4b0d00 0x7f05caa0ab97 0x5b250a\n",
            "500\n",
            "1000\n",
            "1500\n",
            "2000\n",
            "2500\n",
            "3000\n",
            "3500\n",
            "4000\n",
            "4500\n",
            "5000\n",
            "### Step-4: Time took to Display results : 0:08:46.529499\n",
            "done\n",
            "Total number of depthmap images generated as of now : 110001 \n",
            "time: 11min 18s\n"
          ],
          "name": "stdout"
        }
      ]
    },
    {
      "cell_type": "markdown",
      "metadata": {
        "colab_type": "text",
        "id": "rhGeQNFUYP-s"
      },
      "source": [
        "### Batches : 7"
      ]
    },
    {
      "cell_type": "code",
      "metadata": {
        "colab_type": "code",
        "outputId": "d24827aa-3269-446f-8e4e-2527ae2b7c81",
        "id": "mPggqn1iYN_M",
        "colab": {
          "base_uri": "https://localhost:8080/",
          "height": 490
        }
      },
      "source": [
        "!python test.py --input '/content/drive/My Drive/EVA4/S15A_RCNN_RGB/bg_fg_mask_jpgIms/output_6.zip' --start 0 --end 5000 -o '/content/drive/My Drive/EVA4/S15A_RCNN_RGB/denseDepthMaps_S15/DenseDepth/depthMapOutput' -rs 60000 -re 70001 -b 368\n",
        "verifyCount()"
      ],
      "execution_count": 116,
      "outputs": [
        {
          "output_type": "stream",
          "text": [
            "Using TensorFlow backend.\n",
            "Loading model...\n",
            "### Step-1: Time took to load model : 0:00:12.417356\n",
            "\n",
            "Model loaded (nyu.h5).\n",
            "tcmalloc: large alloc 6021120000 bytes == 0x7fae7f710000 @  0x7fb0e47a81e7 0x7fb0e119d5e1 0x7fb0e1201c78 0x7fb0e1201d93 0x7fb0e129fea8 0x7fb0e12a0704 0x7fb0e12a0852 0x566d63 0x59fc4e 0x7fb0e11ed4ed 0x50a2bf 0x50bfb4 0x507d64 0x509a90 0x50a48d 0x50cd96 0x507d64 0x588e5c 0x59fc4e 0x7fb0e11ed4ed 0x50a2bf 0x50bfb4 0x507d64 0x509a90 0x50a48d 0x50cd96 0x507d64 0x509a90 0x50a48d 0x50cd96 0x507d64\n",
            "\n",
            "Loaded (5000) images of size (224, 224, 3).\n",
            "### Step-2: Time took to load Images : 0:00:58.156599\n",
            "At batch sz : 368\n",
            "utils predict Duration: 0:01:00.205848\n",
            "### Step-3: Time took to compute results : 0:01:00.425989\n",
            "tcmalloc: large alloc 6021120000 bytes == 0x7fa8411d0000 @  0x7fb0e47a81e7 0x7fb0e119d5e1 0x7fb0e1204420 0x7fb0e11f97d5 0x7fb0e128e497 0x50a635 0x50bfb4 0x507d64 0x50ae13 0x634c82 0x634d37 0x6384ef 0x639091 0x4b0d00 0x7fb0e43a5b97 0x5b250a\n",
            "500\n",
            "1000\n",
            "1500\n",
            "2000\n",
            "2500\n",
            "3000\n",
            "3500\n",
            "4000\n",
            "4500\n",
            "5000\n",
            "### Step-4: Time took to Display results : 0:08:58.794571\n",
            "done\n",
            "Total number of depthmap images generated as of now : 115001 \n",
            "time: 11min 30s\n"
          ],
          "name": "stdout"
        }
      ]
    },
    {
      "cell_type": "markdown",
      "metadata": {
        "colab_type": "text",
        "id": "x527ns7SYQJ2"
      },
      "source": [
        "### Batches : 8"
      ]
    },
    {
      "cell_type": "code",
      "metadata": {
        "colab_type": "code",
        "outputId": "73d7b642-d808-4724-88fe-92ef4e6f9f36",
        "id": "jf9pUTT9YNvL",
        "colab": {
          "base_uri": "https://localhost:8080/",
          "height": 490
        }
      },
      "source": [
        "!python test.py --input '/content/drive/My Drive/EVA4/S15A_RCNN_RGB/bg_fg_mask_jpgIms/output_6.zip' --start 0 --end 5000 -o '/content/drive/My Drive/EVA4/S15A_RCNN_RGB/denseDepthMaps_S15/DenseDepth/depthMapOutput' -rs 70000 -re 80001 -b 368\n",
        "verifyCount()"
      ],
      "execution_count": 117,
      "outputs": [
        {
          "output_type": "stream",
          "text": [
            "Using TensorFlow backend.\n",
            "Loading model...\n",
            "### Step-1: Time took to load model : 0:00:16.249937\n",
            "\n",
            "Model loaded (nyu.h5).\n",
            "tcmalloc: large alloc 6021120000 bytes == 0x7fd0f85d0000 @  0x7fd35d67e1e7 0x7fd35a0735e1 0x7fd35a0d7c78 0x7fd35a0d7d93 0x7fd35a175ea8 0x7fd35a176704 0x7fd35a176852 0x566d63 0x59fc4e 0x7fd35a0c34ed 0x50a2bf 0x50bfb4 0x507d64 0x509a90 0x50a48d 0x50cd96 0x507d64 0x588e5c 0x59fc4e 0x7fd35a0c34ed 0x50a2bf 0x50bfb4 0x507d64 0x509a90 0x50a48d 0x50cd96 0x507d64 0x509a90 0x50a48d 0x50cd96 0x507d64\n",
            "\n",
            "Loaded (5000) images of size (224, 224, 3).\n",
            "### Step-2: Time took to load Images : 0:01:01.262772\n",
            "At batch sz : 368\n",
            "utils predict Duration: 0:01:00.235880\n",
            "### Step-3: Time took to compute results : 0:01:00.460677\n",
            "tcmalloc: large alloc 6021120000 bytes == 0x7fcabb1d0000 @  0x7fd35d67e1e7 0x7fd35a0735e1 0x7fd35a0da420 0x7fd35a0cf7d5 0x7fd35a164497 0x50a635 0x50bfb4 0x507d64 0x50ae13 0x634c82 0x634d37 0x6384ef 0x639091 0x4b0d00 0x7fd35d27bb97 0x5b250a\n",
            "500\n",
            "1000\n",
            "1500\n",
            "2000\n",
            "2500\n",
            "3000\n",
            "3500\n",
            "4000\n",
            "4500\n",
            "5000\n",
            "### Step-4: Time took to Display results : 0:09:14.492514\n",
            "done\n",
            "Total number of depthmap images generated as of now : 120001 \n",
            "time: 11min 54s\n"
          ],
          "name": "stdout"
        }
      ]
    },
    {
      "cell_type": "markdown",
      "metadata": {
        "id": "vP8j-V_6wZCL",
        "colab_type": "text"
      },
      "source": [
        "# Plot and generate test.png file "
      ]
    },
    {
      "cell_type": "code",
      "metadata": {
        "colab_type": "code",
        "id": "HjzqM74-FfyL",
        "colab": {}
      },
      "source": [
        "#!pwd\n",
        "#!ls\n",
        "from matplotlib import pyplot as plt\n",
        "from skimage import io\n",
        "\n",
        "plt.figure(figsize=(40,40))\n",
        "plt.imshow( io.imread('test.png') )"
      ],
      "execution_count": 0,
      "outputs": []
    }
  ]
}