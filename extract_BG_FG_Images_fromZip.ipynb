{
  "nbformat": 4,
  "nbformat_minor": 0,
  "metadata": {
    "colab": {
      "name": "extract_BG_FG_Images_fromZip.ipynb",
      "provenance": [],
      "collapsed_sections": [],
      "mount_file_id": "1-i4DqiNfoFgy41mSBDoHT5cXC-S2li5a",
      "authorship_tag": "ABX9TyNU4A/RLKN6Af0m8r69ONv4",
      "include_colab_link": true
    },
    "kernelspec": {
      "name": "python3",
      "display_name": "Python 3"
    }
  },
  "cells": [
    {
      "cell_type": "markdown",
      "metadata": {
        "id": "view-in-github",
        "colab_type": "text"
      },
      "source": [
        "<a href=\"https://colab.research.google.com/github/sumankanukollu/denseDepthMaps_S15/blob/master/extract_BG_FG_Images_fromZip.ipynb\" target=\"_parent\"><img src=\"https://colab.research.google.com/assets/colab-badge.svg\" alt=\"Open In Colab\"/></a>"
      ]
    },
    {
      "cell_type": "markdown",
      "metadata": {
        "id": "qOt02R28s2RY",
        "colab_type": "text"
      },
      "source": [
        "# Mount drive"
      ]
    },
    {
      "cell_type": "code",
      "metadata": {
        "id": "aUb3o0YC8z7U",
        "colab_type": "code",
        "colab": {}
      },
      "source": [
        "from google.colab import drive\n",
        "drive.mount('/content/drive')"
      ],
      "execution_count": 0,
      "outputs": []
    },
    {
      "cell_type": "code",
      "metadata": {
        "id": "gtqF_8wr9WM6",
        "colab_type": "code",
        "colab": {}
      },
      "source": [
        "import os,sys,gc\n",
        "from zipfile import ZipFile\n",
        "from datetime import datetime\n",
        "\n",
        "gc.enable()\n",
        "gc.get_threshold()\n",
        "\n",
        "os.chdir('/content/drive/My Drive/EVA4/S15A_RCNN_RGB/bg_fg_mask_jpgIms')"
      ],
      "execution_count": 0,
      "outputs": []
    },
    {
      "cell_type": "code",
      "metadata": {
        "colab_type": "code",
        "id": "4FVzfq4Tz4F-",
        "colab": {}
      },
      "source": [
        "def extractBgFgImages(zipFile,zipDir='bg_fg_1'):\n",
        "    gc.enable()\n",
        "    gc.garbage\n",
        "    start_time = datetime.now()\n",
        "    try:\n",
        "        with ZipFile(zipFile) as z:\n",
        "            f_list = filter(lambda x : x.startswith(zipDir),z.namelist())\n",
        "            for filename in f_list:\n",
        "                z.extract(filename,'400k_bg_fg_Images')\n",
        "        #print('Number of files present in - extracted folder is : {}'.format(len(os.listdir('/content/drive/My Drive/EVA4/S15A_RCNN_RGB/bg_fg_mask_jpgIms/400k_bg_fg_Images/bg_fg_1'))))\n",
        "        end_time = datetime.now()\n",
        "        print('Duration: {}'.format(end_time - start_time))\n",
        "    except Exception as e:\n",
        "        print(str(e))"
      ],
      "execution_count": 0,
      "outputs": []
    },
    {
      "cell_type": "code",
      "metadata": {
        "id": "9cuXjJAovWzS",
        "colab_type": "code",
        "colab": {}
      },
      "source": [
        "extractBgFgImages('output_0.zip')"
      ],
      "execution_count": 0,
      "outputs": []
    },
    {
      "cell_type": "code",
      "metadata": {
        "id": "XdB7wYvktKxv",
        "colab_type": "code",
        "outputId": "3a967f53-d126-4f8f-e509-c107e341b53b",
        "colab": {
          "base_uri": "https://localhost:8080/",
          "height": 34
        }
      },
      "source": [
        "extractBgFgImages('output_1.zip')"
      ],
      "execution_count": 0,
      "outputs": [
        {
          "output_type": "stream",
          "text": [
            "Number of files present in - extracted folder is : 40000\n"
          ],
          "name": "stdout"
        }
      ]
    },
    {
      "cell_type": "code",
      "metadata": {
        "colab_type": "code",
        "outputId": "e133227b-d1bb-4b4d-ead0-fb0f35059c65",
        "id": "3kz2AEjuwXi9",
        "colab": {
          "base_uri": "https://localhost:8080/",
          "height": 34
        }
      },
      "source": [
        "extractBgFgImages('output_2.zip')"
      ],
      "execution_count": 0,
      "outputs": [
        {
          "output_type": "stream",
          "text": [
            "Duration: 0:04:27.893080\n"
          ],
          "name": "stdout"
        }
      ]
    },
    {
      "cell_type": "code",
      "metadata": {
        "id": "CjAYA7MfwZYA",
        "colab_type": "code",
        "outputId": "864d891a-f29b-4815-d2dd-34ed706ebab6",
        "colab": {
          "base_uri": "https://localhost:8080/",
          "height": 34
        }
      },
      "source": [
        "extractBgFgImages('output_3.zip')"
      ],
      "execution_count": 0,
      "outputs": [
        {
          "output_type": "stream",
          "text": [
            "Duration: 0:05:46.042736\n"
          ],
          "name": "stdout"
        }
      ]
    },
    {
      "cell_type": "code",
      "metadata": {
        "id": "0AFTn4VtxrDk",
        "colab_type": "code",
        "outputId": "4dd88659-654e-4fb8-cac3-5538cdd6f3f6",
        "colab": {
          "base_uri": "https://localhost:8080/",
          "height": 34
        }
      },
      "source": [
        "extractBgFgImages('output_4.zip')"
      ],
      "execution_count": 0,
      "outputs": [
        {
          "output_type": "stream",
          "text": [
            "Duration: 0:06:57.528873\n"
          ],
          "name": "stdout"
        }
      ]
    },
    {
      "cell_type": "code",
      "metadata": {
        "id": "M9G0JCkhx9VE",
        "colab_type": "code",
        "outputId": "1479d12e-6680-46b9-a4f7-3f170c251d3d",
        "colab": {
          "base_uri": "https://localhost:8080/",
          "height": 34
        }
      },
      "source": [
        "extractBgFgImages('output_5.zip')"
      ],
      "execution_count": 0,
      "outputs": [
        {
          "output_type": "stream",
          "text": [
            "Duration: 0:08:03.886564\n"
          ],
          "name": "stdout"
        }
      ]
    },
    {
      "cell_type": "code",
      "metadata": {
        "id": "RAUaxbnQx-_G",
        "colab_type": "code",
        "outputId": "a6073a6c-01bf-436c-d04b-e94780499050",
        "colab": {
          "base_uri": "https://localhost:8080/",
          "height": 34
        }
      },
      "source": [
        "extractBgFgImages('output_6.zip')"
      ],
      "execution_count": 0,
      "outputs": [
        {
          "output_type": "stream",
          "text": [
            "Duration: 0:08:59.207007\n"
          ],
          "name": "stdout"
        }
      ]
    },
    {
      "cell_type": "code",
      "metadata": {
        "id": "JugUeRtR3bjv",
        "colab_type": "code",
        "outputId": "1703af5f-2c1d-4f65-869f-c6daa973f2d4",
        "colab": {
          "base_uri": "https://localhost:8080/",
          "height": 34
        }
      },
      "source": [
        "extractBgFgImages('output_7.zip')"
      ],
      "execution_count": 0,
      "outputs": [
        {
          "output_type": "stream",
          "text": [
            "Duration: 0:10:13.598846\n"
          ],
          "name": "stdout"
        }
      ]
    },
    {
      "cell_type": "code",
      "metadata": {
        "id": "XFmWLRQs3eSG",
        "colab_type": "code",
        "outputId": "5eaf6164-908b-4f64-9cf3-c236e3f72f56",
        "colab": {
          "base_uri": "https://localhost:8080/",
          "height": 34
        }
      },
      "source": [
        "extractBgFgImages('output_8.zip')"
      ],
      "execution_count": 0,
      "outputs": [
        {
          "output_type": "stream",
          "text": [
            "Duration: 0:11:28.750037\n"
          ],
          "name": "stdout"
        }
      ]
    },
    {
      "cell_type": "code",
      "metadata": {
        "id": "zq6crVmK3fOE",
        "colab_type": "code",
        "outputId": "d489e0ff-2d04-448c-a663-90f0b3f4be0d",
        "colab": {
          "base_uri": "https://localhost:8080/",
          "height": 34
        }
      },
      "source": [
        "extractBgFgImages('output_9.zip')"
      ],
      "execution_count": 0,
      "outputs": [
        {
          "output_type": "stream",
          "text": [
            "Duration: 0:12:43.645861\n"
          ],
          "name": "stdout"
        }
      ]
    },
    {
      "cell_type": "code",
      "metadata": {
        "id": "DG1TH_4o3gaA",
        "colab_type": "code",
        "outputId": "21bb4a6a-9299-40cf-c9d3-657fcd7e36cb",
        "colab": {
          "base_uri": "https://localhost:8080/",
          "height": 34
        }
      },
      "source": [
        "print('Number of files present in - extracted folder is : {}'.format(len(os.listdir('/content/drive/My Drive/EVA4/S15A_RCNN_RGB/bg_fg_mask_jpgIms/400k_bg_fg_Images/bg_fg_1'))))"
      ],
      "execution_count": 0,
      "outputs": [
        {
          "output_type": "stream",
          "text": [
            "Number of files present in - extracted folder is : 200000\n"
          ],
          "name": "stdout"
        }
      ]
    },
    {
      "cell_type": "code",
      "metadata": {
        "id": "ezmlT_KwCZH9",
        "colab_type": "code",
        "outputId": "e5fd1bba-ae3e-41c0-daf5-6a0960745417",
        "colab": {
          "base_uri": "https://localhost:8080/",
          "height": 67
        }
      },
      "source": [
        "extractBgFgImages('output_0.zip',zipDir='bg_fgFlip_1')\n",
        "extractBgFgImages('output_1.zip',zipDir='bg_fgFlip_1')\n",
        "extractBgFgImages('output_2.zip',zipDir='bg_fgFlip_1')"
      ],
      "execution_count": 0,
      "outputs": [
        {
          "output_type": "stream",
          "text": [
            "Duration: 0:03:51.110346\n",
            "Duration: 0:08:48.406855\n",
            "Duration: 0:14:36.287445\n"
          ],
          "name": "stdout"
        }
      ]
    },
    {
      "cell_type": "code",
      "metadata": {
        "id": "YW2Oja1wEus3",
        "colab_type": "code",
        "colab": {}
      },
      "source": [
        "extractBgFgImages('output_3.zip',zipDir='bg_fgFlip_1') # This was executed"
      ],
      "execution_count": 0,
      "outputs": []
    },
    {
      "cell_type": "code",
      "metadata": {
        "id": "2zJxqr5IMnL_",
        "colab_type": "code",
        "outputId": "2a6744bb-b098-4798-e700-317eabc06042",
        "colab": {
          "base_uri": "https://localhost:8080/",
          "height": 34
        }
      },
      "source": [
        "extractBgFgImages('output_4.zip',zipDir='bg_fgFlip_1')"
      ],
      "execution_count": 0,
      "outputs": [
        {
          "output_type": "stream",
          "text": [
            "Duration: 0:27:14.101676\n"
          ],
          "name": "stdout"
        }
      ]
    },
    {
      "cell_type": "code",
      "metadata": {
        "id": "oTQKw5k6SB0f",
        "colab_type": "code",
        "colab": {}
      },
      "source": [
        "extractBgFgImages('output_5.zip',zipDir='bg_fgFlip_1')"
      ],
      "execution_count": 0,
      "outputs": []
    }
  ]
}