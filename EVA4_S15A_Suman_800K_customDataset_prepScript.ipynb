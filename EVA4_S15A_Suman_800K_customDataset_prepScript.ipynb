{
  "nbformat": 4,
  "nbformat_minor": 0,
  "metadata": {
    "colab": {
      "name": "EVA4_S15A_Suman_800K_customDataset_prepScript.ipynb",
      "provenance": [],
      "collapsed_sections": [
        "DtUuZT7rrW6-",
        "DNyZ_fFac7oB",
        "UuMK-h3mh49a",
        "-jWbcLbOouQx",
        "4zSSxCftpham",
        "3UYI-dZ6ONkj",
        "MPoXRqXKUQQR",
        "gXDFCE9PcYzE",
        "gBX3wr3kmhrm"
      ],
      "toc_visible": true,
      "include_colab_link": true
    },
    "kernelspec": {
      "name": "python3",
      "display_name": "Python 3"
    }
  },
  "cells": [
    {
      "cell_type": "markdown",
      "metadata": {
        "id": "view-in-github",
        "colab_type": "text"
      },
      "source": [
        "<a href=\"https://colab.research.google.com/github/sumankanukollu/denseDepthMaps_S15/blob/master/EVA4_S15A_Suman_800K_customDataset_prepScript.ipynb\" target=\"_parent\"><img src=\"https://colab.research.google.com/assets/colab-badge.svg\" alt=\"Open In Colab\"/></a>"
      ]
    },
    {
      "cell_type": "markdown",
      "metadata": {
        "id": "5kzbA6txEhOC",
        "colab_type": "text"
      },
      "source": [
        "# Mount Drive"
      ]
    },
    {
      "cell_type": "code",
      "metadata": {
        "id": "VgpOYNA8hWyy",
        "colab_type": "code",
        "outputId": "1d4fbfba-68d9-4e10-f421-ce957e31eb27",
        "colab": {
          "base_uri": "https://localhost:8080/",
          "height": 34
        }
      },
      "source": [
        "from google.colab import drive\n",
        "drive.mount('/content/drive')"
      ],
      "execution_count": 0,
      "outputs": [
        {
          "output_type": "stream",
          "text": [
            "Drive already mounted at /content/drive; to attempt to forcibly remount, call drive.mount(\"/content/drive\", force_remount=True).\n"
          ],
          "name": "stdout"
        }
      ]
    },
    {
      "cell_type": "code",
      "metadata": {
        "id": "QiZQvgRXMq1U",
        "colab_type": "code",
        "colab": {}
      },
      "source": [
        "%load_ext autoreload\n",
        "%autoreload 2\n",
        "%reload_ext autoreload"
      ],
      "execution_count": 0,
      "outputs": []
    },
    {
      "cell_type": "markdown",
      "metadata": {
        "id": "SbsnkeXunEGt",
        "colab_type": "text"
      },
      "source": [
        "```Data written to Google Drive is first written to the disk attached to the VM, so the maximum size is limited by that.\n",
        "The google.colab.drive module has a recently-added flush_and_unmount() function that you can use to sync data written to the local VM's disk cache of your Drive-mounted folder back to Google Drive, after which a \"Reset all runtimes\" (from the Runtime menu) will get you a fresh VM.\n",
        "We're working on making all this more transparent.```"
      ]
    },
    {
      "cell_type": "code",
      "metadata": {
        "id": "GYn9SLKPhLZK",
        "colab_type": "code",
        "outputId": "91cb2fad-167e-401a-bff6-87fad635a767",
        "colab": {
          "base_uri": "https://localhost:8080/",
          "height": 34
        }
      },
      "source": [
        "import torch\n",
        "print('PyTorch %s %s' % (torch.__version__, torch.cuda.get_device_properties(0) if torch.cuda.is_available() else 'CPU'))"
      ],
      "execution_count": 0,
      "outputs": [
        {
          "output_type": "stream",
          "text": [
            "PyTorch 1.5.0+cu101 CPU\n"
          ],
          "name": "stdout"
        }
      ]
    },
    {
      "cell_type": "code",
      "metadata": {
        "id": "7CAtNP_GqYRk",
        "colab_type": "code",
        "outputId": "0e48fff9-c161-4a01-b42b-78d948d1c373",
        "colab": {
          "base_uri": "https://localhost:8080/",
          "height": 50
        }
      },
      "source": [
        "import sys,os\n",
        "from pathlib import Path\n",
        "\n",
        "homepath = Path('/content/drive/My Drive/EVA4/S15A_RCNN_RGB/bg_fg_mask_jpgIms')\n",
        "sys.path.append(str(homepath))\n",
        "\n",
        "os.chdir(homepath)\n",
        "!pwd\n",
        "!ls"
      ],
      "execution_count": 0,
      "outputs": [
        {
          "output_type": "stream",
          "text": [
            "/content/drive/My Drive/EVA4/S15A_RCNN_RGB/bg_fg_mask_jpgIms\n",
            "bg  fg\tmask\n"
          ],
          "name": "stdout"
        }
      ]
    },
    {
      "cell_type": "markdown",
      "metadata": {
        "id": "OdMKwSvcE1wS",
        "colab_type": "text"
      },
      "source": [
        "# Import required modules"
      ]
    },
    {
      "cell_type": "code",
      "metadata": {
        "id": "0jX7eHTKE1Yz",
        "colab_type": "code",
        "outputId": "1b8fb9b2-2580-4f5a-f1eb-417bd96971ef",
        "colab": {
          "base_uri": "https://localhost:8080/",
          "height": 34
        }
      },
      "source": [
        "import sys,os,pdb,shutil,time\n",
        "from pathlib import Path\n",
        "from zipfile import ZipFile \n",
        "\n",
        "import numpy as np\n",
        "from PIL import Image\n",
        "import random\n",
        "import copy\n",
        "import PIL\n",
        "\n",
        "from datetime import datetime\n",
        "\n",
        "import gc\n",
        "gc.enable()\n",
        "gc.get_threshold()"
      ],
      "execution_count": 0,
      "outputs": [
        {
          "output_type": "execute_result",
          "data": {
            "text/plain": [
              "(700, 10, 10)"
            ]
          },
          "metadata": {
            "tags": []
          },
          "execution_count": 7
        }
      ]
    },
    {
      "cell_type": "markdown",
      "metadata": {
        "id": "Ek94B_oJkmfl",
        "colab_type": "text"
      },
      "source": [
        "# Method to create overlay Images "
      ]
    },
    {
      "cell_type": "code",
      "metadata": {
        "id": "84y29OzhlzQM",
        "colab_type": "code",
        "colab": {}
      },
      "source": [
        "def startBatch(s,e,outputZip= 'output_0.zip'):\n",
        "    gc.enable()\n",
        "    gc.garbage\n",
        "    start_time = datetime.now()\n",
        "    black = np.zeros((224,224))\n",
        "    try:\n",
        "        with ZipFile(outputZip,'a') as z:\n",
        "            for i in range(s,e): \n",
        "                start = 1 \n",
        "                print('Using background : {}'.format(i))\n",
        "                bgi =f'{homepath}/bg/{str(i)}_bg.jpg'\n",
        "                bg \t= Image.open(f'{homepath}/bg/{str(i)}_bg.jpg')\n",
        "                for j in  range(1,101): \n",
        "                    fg \t\t= Image.open(f'{homepath}/fg/{str(j)}_fg.jpg')\n",
        "                    fgi \t= f'{homepath}/fg/{str(j)}_fg.jpg'\n",
        "                    m \t\t= Image.open(f'{homepath}/mask/{str(j)}_fg_mask.jpg')\n",
        "                    mi \t\t= f'{homepath}/mask/{str(j)}_fg_mask.jpg'\n",
        "                    for k in range(1,21): \n",
        "                        r1 = random.randint(1, bg.size[0]-fg.size[0])\n",
        "                        r2 = random.randint(1, bg.size[0]-fg.size[0])\n",
        "\n",
        "                        bg_1_1, fg_t, m_t = copy.deepcopy(bg),copy.deepcopy(fg),copy.deepcopy(m)\n",
        "                        bg_1_2, fg_f, m_f = copy.deepcopy(bg),copy.deepcopy(fg),copy.deepcopy(m)\n",
        "\n",
        "                        fg_f = fg_f.transpose(Image.FLIP_LEFT_RIGHT) #flip fg image\n",
        "                        m_f\t = m_f.transpose(Image.FLIP_LEFT_RIGHT) #flip mask\n",
        "\n",
        "                        black_img1 \t= Image.fromarray(black,mode='L')\n",
        "                        black_img1.paste(m_t,(r1,r2), m_t.split()[0])\n",
        "                        fname = os.path.basename(bgi).split('.')[0]+'_'+str(start)+'_fg.jpg'\n",
        "                        #black_img1.save(os.path.join(homepath,'bg_fg_mask',fname), optimize=True, quality=60)\n",
        "                        black_img1.save('tmp_bg_fg_mask.jpg', optimize=True, quality=60)\n",
        "                        z.write('tmp_bg_fg_mask.jpg',os.path.join('bg_fg_mask_1',fname))\n",
        "\n",
        "                        black_img2 = Image.fromarray(black,mode='L')\n",
        "                        black_img2.paste(m_f,(r1,r2), m_f.split()[0])\n",
        "                        fname = os.path.basename(bgi).split('.')[0]+'_'+str(start)+'_fg.jpg'\n",
        "                        #black_img2.save(os.path.join(homepath,'bg_fgFlip_mask',fname), optimize=True, quality=60)\n",
        "                        black_img2.save('tmp_bg_fgFlip_mask.jpg', optimize=True, quality=60)\n",
        "                        z.write('tmp_bg_fgFlip_mask.jpg',os.path.join('bg_fgFlip_mask_1',fname))\n",
        "\n",
        "\n",
        "                        bg_1_1.paste(fg_t,(r1,r2),m_t.split()[0])\n",
        "                        fname = os.path.basename(bgi).split('.')[0]+'_'+str(start)+'_fg.jpg'\n",
        "                        bg_1_1.save('tmp_bg_fg.jpg', optimize=True, quality=60)\n",
        "                        z.write('tmp_bg_fg.jpg',os.path.join('bg_fg_1',fname))\n",
        "\n",
        "                        bg_1_2.paste(fg_f,(r1,r2),m_f.split()[0])\n",
        "                        fname = os.path.basename(bgi).split('.')[0]+'_'+str(start)+'_fgFlip.jpg'\n",
        "                        #bg_1_2.save(os.path.join(homepath,'bg_fgFlip',fname), optimize=True, quality=60)\n",
        "                        bg_1_2.save('tmp_bg_fgFlip.jpg', optimize=True, quality=60)\n",
        "                        z.write('tmp_bg_fgFlip.jpg',os.path.join('bg_fgFlip_1',fname))\n",
        "\n",
        "                        [print(start) if start/500 in range(1000) else None]\n",
        "                        start+=1\n",
        "    except Exception as e:\n",
        "        print(str(e))\n",
        "        print('Fg img : {} and BG Image : {}'.format(j,i))\n",
        "    end_time = datetime.now()\n",
        "    print('Duration: {}'.format(end_time - start_time))\n",
        "\n"
      ],
      "execution_count": 0,
      "outputs": []
    },
    {
      "cell_type": "markdown",
      "metadata": {
        "id": "H57fRJOQFJ9w",
        "colab_type": "text"
      },
      "source": [
        "# 1-10 BG Images Overlay Foreground Images on Background"
      ]
    },
    {
      "cell_type": "code",
      "metadata": {
        "id": "MTNj6ypinEmw",
        "colab_type": "code",
        "outputId": "22451138-2a3e-4323-9930-29ba167f77a3",
        "colab": {
          "base_uri": "https://localhost:8080/",
          "height": 874
        }
      },
      "source": [
        "startBatch(1,11,outputZip= 'output_0.zip')"
      ],
      "execution_count": 0,
      "outputs": [
        {
          "output_type": "stream",
          "text": [
            "Using background : 1\n",
            "500\n",
            "1000\n",
            "1500\n",
            "2000\n",
            "Using background : 2\n",
            "500\n",
            "1000\n",
            "1500\n",
            "2000\n",
            "Using background : 3\n",
            "500\n",
            "1000\n",
            "1500\n",
            "2000\n",
            "Using background : 4\n",
            "500\n",
            "1000\n",
            "1500\n",
            "2000\n",
            "Using background : 5\n",
            "500\n",
            "1000\n",
            "1500\n",
            "2000\n",
            "Using background : 6\n",
            "500\n",
            "1000\n",
            "1500\n",
            "2000\n",
            "Using background : 7\n",
            "500\n",
            "1000\n",
            "1500\n",
            "2000\n",
            "Using background : 8\n",
            "500\n",
            "1000\n",
            "1500\n",
            "2000\n",
            "Using background : 9\n",
            "500\n",
            "1000\n",
            "1500\n",
            "2000\n",
            "Using background : 10\n",
            "500\n",
            "1000\n",
            "1500\n",
            "2000\n",
            "Duration: 0:10:43.054554\n"
          ],
          "name": "stdout"
        }
      ]
    },
    {
      "cell_type": "markdown",
      "metadata": {
        "id": "DtUuZT7rrW6-",
        "colab_type": "text"
      },
      "source": [
        "## 1-10 BG Images unzip output folders"
      ]
    },
    {
      "cell_type": "code",
      "metadata": {
        "id": "rJKuPPw7e39B",
        "colab_type": "code",
        "colab": {}
      },
      "source": [
        "gc.enable()\n",
        "gc.garbage\n",
        "start_time = datetime.now()\n",
        "!unzip -q /content/drive/My\\ Drive/EVA4/S15A_RCNN/original_jpg_imgs/output_0.zip -d /content/drive/My\\ Drive/EVA4/S15A_RCNN/original_jpg_imgs/output_0\n",
        "end_time = datetime.now()\n",
        "print('Duration: {}'.format(end_time - start_time))"
      ],
      "execution_count": 0,
      "outputs": []
    },
    {
      "cell_type": "markdown",
      "metadata": {
        "colab_type": "text",
        "id": "F9SGgVXthtu6"
      },
      "source": [
        "# 11-20 BG Images Overlay Foreground Images on Background"
      ]
    },
    {
      "cell_type": "code",
      "metadata": {
        "colab_type": "code",
        "outputId": "1d5fc257-de7e-4910-832a-2f4496c6c497",
        "id": "aYl3nOqqc7n0",
        "colab": {
          "base_uri": "https://localhost:8080/",
          "height": 874
        }
      },
      "source": [
        "startBatch(11,21,outputZip= 'output_1.zip')"
      ],
      "execution_count": 0,
      "outputs": [
        {
          "output_type": "stream",
          "text": [
            "Using background : 11\n",
            "500\n",
            "1000\n",
            "1500\n",
            "2000\n",
            "Using background : 12\n",
            "500\n",
            "1000\n",
            "1500\n",
            "2000\n",
            "Using background : 13\n",
            "500\n",
            "1000\n",
            "1500\n",
            "2000\n",
            "Using background : 14\n",
            "500\n",
            "1000\n",
            "1500\n",
            "2000\n",
            "Using background : 15\n",
            "500\n",
            "1000\n",
            "1500\n",
            "2000\n",
            "Using background : 16\n",
            "500\n",
            "1000\n",
            "1500\n",
            "2000\n",
            "Using background : 17\n",
            "500\n",
            "1000\n",
            "1500\n",
            "2000\n",
            "Using background : 18\n",
            "500\n",
            "1000\n",
            "1500\n",
            "2000\n",
            "Using background : 19\n",
            "500\n",
            "1000\n",
            "1500\n",
            "2000\n",
            "Using background : 20\n",
            "500\n",
            "1000\n",
            "1500\n",
            "2000\n",
            "Duration: 0:10:23.393650\n"
          ],
          "name": "stdout"
        }
      ]
    },
    {
      "cell_type": "markdown",
      "metadata": {
        "colab_type": "text",
        "id": "DNyZ_fFac7oB"
      },
      "source": [
        "## 11-20 BG Images unzip output folders"
      ]
    },
    {
      "cell_type": "code",
      "metadata": {
        "colab_type": "code",
        "id": "ZdYbKl7tc7oC",
        "colab": {}
      },
      "source": [
        "gc.enable()\n",
        "gc.garbage\n",
        "start_time = datetime.now()\n",
        "!unzip -q /content/drive/My\\ Drive/EVA4/S15A_RCNN/original_jpg_imgs/output_1.zip -d /content/drive/My\\ Drive/EVA4/S15A_RCNN/original_jpg_imgs/output_1\n",
        "end_time = datetime.now()\n",
        "print('Duration: {}'.format(end_time - start_time))"
      ],
      "execution_count": 0,
      "outputs": []
    },
    {
      "cell_type": "markdown",
      "metadata": {
        "colab_type": "text",
        "id": "gYKIG6dnh48p"
      },
      "source": [
        "# 21-30 BG Images Overlay Foreground Images on Background"
      ]
    },
    {
      "cell_type": "code",
      "metadata": {
        "colab_type": "code",
        "outputId": "4cdb346c-ad60-45a0-dbe6-9af524106805",
        "id": "qSoQFUf-h49K",
        "colab": {
          "base_uri": "https://localhost:8080/",
          "height": 874
        }
      },
      "source": [
        "startBatch(21,31,outputZip= 'output_2.zip')"
      ],
      "execution_count": 0,
      "outputs": [
        {
          "output_type": "stream",
          "text": [
            "Using background : 21\n",
            "500\n",
            "1000\n",
            "1500\n",
            "2000\n",
            "Using background : 22\n",
            "500\n",
            "1000\n",
            "1500\n",
            "2000\n",
            "Using background : 23\n",
            "500\n",
            "1000\n",
            "1500\n",
            "2000\n",
            "Using background : 24\n",
            "500\n",
            "1000\n",
            "1500\n",
            "2000\n",
            "Using background : 25\n",
            "500\n",
            "1000\n",
            "1500\n",
            "2000\n",
            "Using background : 26\n",
            "500\n",
            "1000\n",
            "1500\n",
            "2000\n",
            "Using background : 27\n",
            "500\n",
            "1000\n",
            "1500\n",
            "2000\n",
            "Using background : 28\n",
            "500\n",
            "1000\n",
            "1500\n",
            "2000\n",
            "Using background : 29\n",
            "500\n",
            "1000\n",
            "1500\n",
            "2000\n",
            "Using background : 30\n",
            "500\n",
            "1000\n",
            "1500\n",
            "2000\n",
            "Duration: 0:10:12.103429\n"
          ],
          "name": "stdout"
        }
      ]
    },
    {
      "cell_type": "markdown",
      "metadata": {
        "colab_type": "text",
        "id": "UuMK-h3mh49a"
      },
      "source": [
        "## 21-30 BG Images unzip output folders"
      ]
    },
    {
      "cell_type": "code",
      "metadata": {
        "colab_type": "code",
        "id": "n3-W3EYsh49b",
        "colab": {}
      },
      "source": [
        "gc.enable()\n",
        "gc.garbage\n",
        "start_time = datetime.now()\n",
        "print('Started at : {}'.format(start_time))\n",
        "!unzip -q /content/drive/My\\ Drive/EVA4/S15A_RCNN/original_jpg_imgs/output_2.zip -d /content/drive/My\\ Drive/EVA4/S15A_RCNN/original_jpg_imgs/output_2\n",
        "end_time = datetime.now()\n",
        "print('Duration: {}'.format(end_time - start_time))"
      ],
      "execution_count": 0,
      "outputs": []
    },
    {
      "cell_type": "markdown",
      "metadata": {
        "colab_type": "text",
        "id": "Q0i0Gdi_ouQc"
      },
      "source": [
        "# 31-40 BG Images Overlay Foreground Images on Background"
      ]
    },
    {
      "cell_type": "code",
      "metadata": {
        "colab_type": "code",
        "outputId": "224cb04b-ae12-41fb-9c19-c4bece801c7b",
        "id": "zUVPNicvouQt",
        "colab": {
          "base_uri": "https://localhost:8080/",
          "height": 874
        }
      },
      "source": [
        "startBatch(31,41,outputZip= 'output_3.zip')"
      ],
      "execution_count": 0,
      "outputs": [
        {
          "output_type": "stream",
          "text": [
            "Using background : 31\n",
            "500\n",
            "1000\n",
            "1500\n",
            "2000\n",
            "Using background : 32\n",
            "500\n",
            "1000\n",
            "1500\n",
            "2000\n",
            "Using background : 33\n",
            "500\n",
            "1000\n",
            "1500\n",
            "2000\n",
            "Using background : 34\n",
            "500\n",
            "1000\n",
            "1500\n",
            "2000\n",
            "Using background : 35\n",
            "500\n",
            "1000\n",
            "1500\n",
            "2000\n",
            "Using background : 36\n",
            "500\n",
            "1000\n",
            "1500\n",
            "2000\n",
            "Using background : 37\n",
            "500\n",
            "1000\n",
            "1500\n",
            "2000\n",
            "Using background : 38\n",
            "500\n",
            "1000\n",
            "1500\n",
            "2000\n",
            "Using background : 39\n",
            "500\n",
            "1000\n",
            "1500\n",
            "2000\n",
            "Using background : 40\n",
            "500\n",
            "1000\n",
            "1500\n",
            "2000\n",
            "Duration: 0:10:01.763599\n"
          ],
          "name": "stdout"
        }
      ]
    },
    {
      "cell_type": "markdown",
      "metadata": {
        "colab_type": "text",
        "id": "-jWbcLbOouQx"
      },
      "source": [
        "## 31-40 BG Images unzip output folders"
      ]
    },
    {
      "cell_type": "code",
      "metadata": {
        "colab_type": "code",
        "id": "jvRTrYNuouQy",
        "colab": {}
      },
      "source": [
        "gc.enable()\n",
        "gc.garbage\n",
        "start_time = datetime.now()\n",
        "print('Started at : {}'.format(start_time))\n",
        "!unzip -q /content/drive/My\\ Drive/EVA4/S15A_RCNN/original_jpg_imgs/output_3.zip -d /content/drive/My\\ Drive/EVA4/S15A_RCNN/original_jpg_imgs/output_3\n",
        "end_time = datetime.now()\n",
        "print('Duration: {}'.format(end_time - start_time))"
      ],
      "execution_count": 0,
      "outputs": []
    },
    {
      "cell_type": "markdown",
      "metadata": {
        "colab_type": "text",
        "id": "xFeblvXnphaF"
      },
      "source": [
        "# 41-50 BG Images Overlay Foreground Images on Background"
      ]
    },
    {
      "cell_type": "code",
      "metadata": {
        "colab_type": "code",
        "id": "UtVXkUOHphaf",
        "outputId": "d7d487a7-ba2b-4983-fe0b-4a128056dafb",
        "colab": {
          "base_uri": "https://localhost:8080/",
          "height": 874
        }
      },
      "source": [
        "startBatch(41,51,outputZip= 'output_4.zip')"
      ],
      "execution_count": 0,
      "outputs": [
        {
          "output_type": "stream",
          "text": [
            "Using background : 41\n",
            "500\n",
            "1000\n",
            "1500\n",
            "2000\n",
            "Using background : 42\n",
            "500\n",
            "1000\n",
            "1500\n",
            "2000\n",
            "Using background : 43\n",
            "500\n",
            "1000\n",
            "1500\n",
            "2000\n",
            "Using background : 44\n",
            "500\n",
            "1000\n",
            "1500\n",
            "2000\n",
            "Using background : 45\n",
            "500\n",
            "1000\n",
            "1500\n",
            "2000\n",
            "Using background : 46\n",
            "500\n",
            "1000\n",
            "1500\n",
            "2000\n",
            "Using background : 47\n",
            "500\n",
            "1000\n",
            "1500\n",
            "2000\n",
            "Using background : 48\n",
            "500\n",
            "1000\n",
            "1500\n",
            "2000\n",
            "Using background : 49\n",
            "500\n",
            "1000\n",
            "1500\n",
            "2000\n",
            "Using background : 50\n",
            "500\n",
            "1000\n",
            "1500\n",
            "2000\n",
            "Duration: 0:10:05.061687\n"
          ],
          "name": "stdout"
        }
      ]
    },
    {
      "cell_type": "markdown",
      "metadata": {
        "colab_type": "text",
        "id": "4zSSxCftpham"
      },
      "source": [
        "## 41-50 BG Images unzip output folders"
      ]
    },
    {
      "cell_type": "code",
      "metadata": {
        "colab_type": "code",
        "id": "_GnD7Unbphan",
        "colab": {}
      },
      "source": [
        "gc.enable()\n",
        "gc.garbage\n",
        "start_time = datetime.now()\n",
        "print('Started at : {}'.format(start_time))\n",
        "!unzip -q /content/drive/My\\ Drive/EVA4/S15A_RCNN/original_jpg_imgs/output_4.zip -d /content/drive/My\\ Drive/EVA4/S15A_RCNN/original_jpg_imgs/output_4\n",
        "end_time = datetime.now()\n",
        "print('Duration: {}'.format(end_time - start_time))"
      ],
      "execution_count": 0,
      "outputs": []
    },
    {
      "cell_type": "markdown",
      "metadata": {
        "colab_type": "text",
        "id": "go94a_BiONj_"
      },
      "source": [
        "# 51-60 BG Images Overlay Foreground Images on Background"
      ]
    },
    {
      "cell_type": "code",
      "metadata": {
        "colab_type": "code",
        "outputId": "a8a7f408-2636-423d-ab29-cd2c962a49a0",
        "id": "I5Ygs4GyONkZ",
        "colab": {
          "base_uri": "https://localhost:8080/",
          "height": 874
        }
      },
      "source": [
        "startBatch(51,61,outputZip= 'output_5.zip')"
      ],
      "execution_count": 0,
      "outputs": [
        {
          "output_type": "stream",
          "text": [
            "Using background : 51\n",
            "500\n",
            "1000\n",
            "1500\n",
            "2000\n",
            "Using background : 52\n",
            "500\n",
            "1000\n",
            "1500\n",
            "2000\n",
            "Using background : 53\n",
            "500\n",
            "1000\n",
            "1500\n",
            "2000\n",
            "Using background : 54\n",
            "500\n",
            "1000\n",
            "1500\n",
            "2000\n",
            "Using background : 55\n",
            "500\n",
            "1000\n",
            "1500\n",
            "2000\n",
            "Using background : 56\n",
            "500\n",
            "1000\n",
            "1500\n",
            "2000\n",
            "Using background : 57\n",
            "500\n",
            "1000\n",
            "1500\n",
            "2000\n",
            "Using background : 58\n",
            "500\n",
            "1000\n",
            "1500\n",
            "2000\n",
            "Using background : 59\n",
            "500\n",
            "1000\n",
            "1500\n",
            "2000\n",
            "Using background : 60\n",
            "500\n",
            "1000\n",
            "1500\n",
            "2000\n",
            "Duration: 0:10:08.953407\n"
          ],
          "name": "stdout"
        }
      ]
    },
    {
      "cell_type": "markdown",
      "metadata": {
        "colab_type": "text",
        "id": "3UYI-dZ6ONkj"
      },
      "source": [
        "## 51-60 BG Images unzip output folders"
      ]
    },
    {
      "cell_type": "code",
      "metadata": {
        "colab_type": "code",
        "id": "2XoDmpFhONkn",
        "colab": {}
      },
      "source": [
        "gc.enable()\n",
        "gc.garbage\n",
        "start_time = datetime.now()\n",
        "print('Started at : {}'.format(start_time))\n",
        "!unzip -q /content/drive/My\\ Drive/EVA4/S15A_RCNN/original_jpg_imgs/output_5.zip -d /content/drive/My\\ Drive/EVA4/S15A_RCNN/original_jpg_imgs/output_5\n",
        "end_time = datetime.now()\n",
        "print('Duration: {}'.format(end_time - start_time))"
      ],
      "execution_count": 0,
      "outputs": []
    },
    {
      "cell_type": "markdown",
      "metadata": {
        "colab_type": "text",
        "id": "erIAnmYiUQPr"
      },
      "source": [
        "# 61-70 BG Images Overlay Foreground Images on Background"
      ]
    },
    {
      "cell_type": "code",
      "metadata": {
        "colab_type": "code",
        "outputId": "1a0b159e-f49f-4699-c934-6de403c4ccd0",
        "id": "8N_w00rsUQQM",
        "colab": {
          "base_uri": "https://localhost:8080/",
          "height": 874
        }
      },
      "source": [
        "startBatch(61,71,outputZip= 'output_6.zip')"
      ],
      "execution_count": 0,
      "outputs": [
        {
          "output_type": "stream",
          "text": [
            "Using background : 61\n",
            "500\n",
            "1000\n",
            "1500\n",
            "2000\n",
            "Using background : 62\n",
            "500\n",
            "1000\n",
            "1500\n",
            "2000\n",
            "Using background : 63\n",
            "500\n",
            "1000\n",
            "1500\n",
            "2000\n",
            "Using background : 64\n",
            "500\n",
            "1000\n",
            "1500\n",
            "2000\n",
            "Using background : 65\n",
            "500\n",
            "1000\n",
            "1500\n",
            "2000\n",
            "Using background : 66\n",
            "500\n",
            "1000\n",
            "1500\n",
            "2000\n",
            "Using background : 67\n",
            "500\n",
            "1000\n",
            "1500\n",
            "2000\n",
            "Using background : 68\n",
            "500\n",
            "1000\n",
            "1500\n",
            "2000\n",
            "Using background : 69\n",
            "500\n",
            "1000\n",
            "1500\n",
            "2000\n",
            "Using background : 70\n",
            "500\n",
            "1000\n",
            "1500\n",
            "2000\n",
            "Duration: 0:10:17.870592\n"
          ],
          "name": "stdout"
        }
      ]
    },
    {
      "cell_type": "markdown",
      "metadata": {
        "colab_type": "text",
        "id": "MPoXRqXKUQQR"
      },
      "source": [
        "## 61-70 BG Images unzip output folders"
      ]
    },
    {
      "cell_type": "code",
      "metadata": {
        "colab_type": "code",
        "id": "QQqbeFSBUQQS",
        "colab": {}
      },
      "source": [
        "gc.enable()\n",
        "gc.garbage\n",
        "start_time = datetime.now()\n",
        "print('Started at : {}'.format(start_time))\n",
        "!unzip -q /content/drive/My\\ Drive/EVA4/S15A_RCNN/original_jpg_imgs/output_6.zip -d /content/drive/My\\ Drive/EVA4/S15A_RCNN/original_jpg_imgs/output_6\n",
        "end_time = datetime.now()\n",
        "print('Duration: {}'.format(end_time - start_time))"
      ],
      "execution_count": 0,
      "outputs": []
    },
    {
      "cell_type": "markdown",
      "metadata": {
        "colab_type": "text",
        "id": "zNFqoNQ8cYyg"
      },
      "source": [
        "# 71-80 BG Images Overlay Foreground Images on Background"
      ]
    },
    {
      "cell_type": "code",
      "metadata": {
        "colab_type": "code",
        "outputId": "abfc8b3b-7436-446f-9a70-6ea4fbdb378a",
        "id": "JZyfH_J8cYzA",
        "colab": {
          "base_uri": "https://localhost:8080/",
          "height": 874
        }
      },
      "source": [
        "startBatch(71,81,outputZip= 'output_7.zip')"
      ],
      "execution_count": 0,
      "outputs": [
        {
          "output_type": "stream",
          "text": [
            "Using background : 71\n",
            "500\n",
            "1000\n",
            "1500\n",
            "2000\n",
            "Using background : 72\n",
            "500\n",
            "1000\n",
            "1500\n",
            "2000\n",
            "Using background : 73\n",
            "500\n",
            "1000\n",
            "1500\n",
            "2000\n",
            "Using background : 74\n",
            "500\n",
            "1000\n",
            "1500\n",
            "2000\n",
            "Using background : 75\n",
            "500\n",
            "1000\n",
            "1500\n",
            "2000\n",
            "Using background : 76\n",
            "500\n",
            "1000\n",
            "1500\n",
            "2000\n",
            "Using background : 77\n",
            "500\n",
            "1000\n",
            "1500\n",
            "2000\n",
            "Using background : 78\n",
            "500\n",
            "1000\n",
            "1500\n",
            "2000\n",
            "Using background : 79\n",
            "500\n",
            "1000\n",
            "1500\n",
            "2000\n",
            "Using background : 80\n",
            "500\n",
            "1000\n",
            "1500\n",
            "2000\n",
            "Duration: 0:10:18.061205\n"
          ],
          "name": "stdout"
        }
      ]
    },
    {
      "cell_type": "markdown",
      "metadata": {
        "colab_type": "text",
        "id": "gXDFCE9PcYzE"
      },
      "source": [
        "## 71-80 BG Images unzip output folders"
      ]
    },
    {
      "cell_type": "code",
      "metadata": {
        "colab_type": "code",
        "id": "ZDDFEa4CcYzF",
        "colab": {}
      },
      "source": [
        "gc.enable()\n",
        "gc.garbage\n",
        "start_time = datetime.now()\n",
        "print('Started at : {}'.format(start_time))\n",
        "!unzip -q /content/drive/My\\ Drive/EVA4/S15A_RCNN/original_jpg_imgs/output_7.zip -d /content/drive/My\\ Drive/EVA4/S15A_RCNN/original_jpg_imgs/output_7\n",
        "end_time = datetime.now()\n",
        "print('Duration: {}'.format(end_time - start_time))"
      ],
      "execution_count": 0,
      "outputs": []
    },
    {
      "cell_type": "markdown",
      "metadata": {
        "colab_type": "text",
        "id": "TCFL5KXwmhq-"
      },
      "source": [
        "# 81-90 BG Images Overlay Foreground Images on Background"
      ]
    },
    {
      "cell_type": "code",
      "metadata": {
        "colab_type": "code",
        "outputId": "2e8375ad-a9a0-4af9-da32-2851be7b211a",
        "id": "2XTfRnYSmhri",
        "colab": {
          "base_uri": "https://localhost:8080/",
          "height": 874
        }
      },
      "source": [
        "startBatch(81,91,outputZip= 'output_8.zip')"
      ],
      "execution_count": 0,
      "outputs": [
        {
          "output_type": "stream",
          "text": [
            "Using background : 81\n",
            "500\n",
            "1000\n",
            "1500\n",
            "2000\n",
            "Using background : 82\n",
            "500\n",
            "1000\n",
            "1500\n",
            "2000\n",
            "Using background : 83\n",
            "500\n",
            "1000\n",
            "1500\n",
            "2000\n",
            "Using background : 84\n",
            "500\n",
            "1000\n",
            "1500\n",
            "2000\n",
            "Using background : 85\n",
            "500\n",
            "1000\n",
            "1500\n",
            "2000\n",
            "Using background : 86\n",
            "500\n",
            "1000\n",
            "1500\n",
            "2000\n",
            "Using background : 87\n",
            "500\n",
            "1000\n",
            "1500\n",
            "2000\n",
            "Using background : 88\n",
            "500\n",
            "1000\n",
            "1500\n",
            "2000\n",
            "Using background : 89\n",
            "500\n",
            "1000\n",
            "1500\n",
            "2000\n",
            "Using background : 90\n",
            "500\n",
            "1000\n",
            "1500\n",
            "2000\n",
            "Duration: 0:10:10.873715\n"
          ],
          "name": "stdout"
        }
      ]
    },
    {
      "cell_type": "markdown",
      "metadata": {
        "colab_type": "text",
        "id": "gBX3wr3kmhrm"
      },
      "source": [
        "## 81-90 BG Images unzip output folders"
      ]
    },
    {
      "cell_type": "code",
      "metadata": {
        "colab_type": "code",
        "id": "GXo7P6eEmhrn",
        "colab": {}
      },
      "source": [
        "gc.enable()\n",
        "gc.garbage\n",
        "start_time = datetime.now()\n",
        "print('Started at : {}'.format(start_time))\n",
        "!unzip -q /content/drive/My\\ Drive/EVA4/S15A_RCNN/original_jpg_imgs/output_8.zip -d /content/drive/My\\ Drive/EVA4/S15A_RCNN/original_jpg_imgs/output_8\n",
        "end_time = datetime.now()\n",
        "print('Duration: {}'.format(end_time - start_time))"
      ],
      "execution_count": 0,
      "outputs": []
    },
    {
      "cell_type": "markdown",
      "metadata": {
        "colab_type": "text",
        "id": "Gj5AhT2HwbSF"
      },
      "source": [
        "# 91-100 BG Images Overlay Foreground Images on Background"
      ]
    },
    {
      "cell_type": "code",
      "metadata": {
        "colab_type": "code",
        "outputId": "c4341b39-dde4-4ce1-f7db-42d2be783ef1",
        "id": "eQFnaOFSwbSY",
        "colab": {
          "base_uri": "https://localhost:8080/",
          "height": 874
        }
      },
      "source": [
        "startBatch(91,101,outputZip= 'output_9.zip')"
      ],
      "execution_count": 0,
      "outputs": [
        {
          "output_type": "stream",
          "text": [
            "Using background : 91\n",
            "500\n",
            "1000\n",
            "1500\n",
            "2000\n",
            "Using background : 92\n",
            "500\n",
            "1000\n",
            "1500\n",
            "2000\n",
            "Using background : 93\n",
            "500\n",
            "1000\n",
            "1500\n",
            "2000\n",
            "Using background : 94\n",
            "500\n",
            "1000\n",
            "1500\n",
            "2000\n",
            "Using background : 95\n",
            "500\n",
            "1000\n",
            "1500\n",
            "2000\n",
            "Using background : 96\n",
            "500\n",
            "1000\n",
            "1500\n",
            "2000\n",
            "Using background : 97\n",
            "500\n",
            "1000\n",
            "1500\n",
            "2000\n",
            "Using background : 98\n",
            "500\n",
            "1000\n",
            "1500\n",
            "2000\n",
            "Using background : 99\n",
            "500\n",
            "1000\n",
            "1500\n",
            "2000\n",
            "Using background : 100\n",
            "500\n",
            "1000\n",
            "1500\n",
            "2000\n",
            "Duration: 0:09:55.325788\n"
          ],
          "name": "stdout"
        }
      ]
    },
    {
      "cell_type": "markdown",
      "metadata": {
        "colab_type": "text",
        "id": "JpG5vqTtwbSf"
      },
      "source": [
        "## 91-100 BG Images unzip output folders"
      ]
    },
    {
      "cell_type": "code",
      "metadata": {
        "colab_type": "code",
        "id": "p7JcJnDXwbSf",
        "colab": {}
      },
      "source": [
        "gc.enable()\n",
        "gc.garbage\n",
        "start_time = datetime.now()\n",
        "print('Started at : {}'.format(start_time))\n",
        "!unzip -q /content/drive/My\\ Drive/EVA4/S15A_RCNN/original_jpg_imgs/output_9.zip -d /content/drive/My\\ Drive/EVA4/S15A_RCNN/original_jpg_imgs/output_9\n",
        "end_time = datetime.now()\n",
        "print('Duration: {}'.format(end_time - start_time))"
      ],
      "execution_count": 0,
      "outputs": []
    },
    {
      "cell_type": "markdown",
      "metadata": {
        "id": "iM7WHLs-LAFl",
        "colab_type": "text"
      },
      "source": [
        "# Final Number of Images count in GDrive"
      ]
    },
    {
      "cell_type": "code",
      "metadata": {
        "colab_type": "code",
        "id": "a7gYgz_jK4In",
        "colab": {}
      },
      "source": [
        "import os\n",
        "os.chdir('/content/drive/My Drive/EVA4/S15A_RCNN_RGB/bg_fg_mask_jpgIms')"
      ],
      "execution_count": 0,
      "outputs": []
    },
    {
      "cell_type": "code",
      "metadata": {
        "id": "txCpWo8e5Org",
        "colab_type": "code",
        "outputId": "f76f82cb-9c25-46e2-c68a-5e049577777c",
        "colab": {
          "base_uri": "https://localhost:8080/",
          "height": 202
        }
      },
      "source": [
        "import zipfile\n",
        "from PIL import Image\n",
        "\n",
        "count=0\n",
        "for d in range(0,10):\n",
        "    imgzip = zipfile.ZipFile(\"output_%i.zip\"%d)\n",
        "    inflist = imgzip.infolist()\n",
        "    count += len(inflist)\n",
        "    print('Number of images in folder {} is  {}'.format(\"output_%i.zip\"%d,len(inflist)))\n",
        "\n",
        "print('Total number of Images are : {}'.format(count))"
      ],
      "execution_count": 0,
      "outputs": [
        {
          "output_type": "stream",
          "text": [
            "Number of images in folder output_0.zip is  80000\n",
            "Number of images in folder output_1.zip is  80000\n",
            "Number of images in folder output_2.zip is  80000\n",
            "Number of images in folder output_3.zip is  80000\n",
            "Number of images in folder output_4.zip is  80000\n",
            "Number of images in folder output_5.zip is  80000\n",
            "Number of images in folder output_6.zip is  80000\n",
            "Number of images in folder output_7.zip is  80000\n",
            "Number of images in folder output_8.zip is  80000\n",
            "Number of images in folder output_9.zip is  80000\n",
            "Total number of Images are : 800000\n"
          ],
          "name": "stdout"
        }
      ]
    },
    {
      "cell_type": "markdown",
      "metadata": {
        "id": "noYBbWsu2tjo",
        "colab_type": "text"
      },
      "source": [
        "# Read Images directly from zip folder"
      ]
    },
    {
      "cell_type": "code",
      "metadata": {
        "id": "CoP850jUsIm7",
        "colab_type": "code",
        "colab": {}
      },
      "source": [
        "start =1\n",
        "for f in inflist[:1]:\n",
        "    ifile = imgzip.open(f)\n",
        "    img = Image.open(ifile)\n",
        "    print(img)\n",
        "    #img.save('test_%i'%start+'.jpg')\n",
        "    img.show()\n",
        "    start +=1"
      ],
      "execution_count": 0,
      "outputs": []
    },
    {
      "cell_type": "code",
      "metadata": {
        "id": "5sc4H1lw3ksA",
        "colab_type": "code",
        "colab": {}
      },
      "source": [
        ""
      ],
      "execution_count": 0,
      "outputs": []
    },
    {
      "cell_type": "code",
      "metadata": {
        "colab_type": "code",
        "id": "LZ3FMpctkA4b",
        "colab": {}
      },
      "source": [
        "import os\n",
        "from pathlib import Path\n",
        "\n",
        "homepath = Path('/content/drive/My Drive/EVA4/S15A_RCNN/original_jpg_imgs/')\n",
        "os.chdir(homepath)\n",
        "!ls output_0"
      ],
      "execution_count": 0,
      "outputs": []
    },
    {
      "cell_type": "code",
      "metadata": {
        "id": "QAfZe4f6Hfhi",
        "colab_type": "code",
        "colab": {}
      },
      "source": [
        "count=0\n",
        "for p in \"output_0  output_1  output_2  output_3  output_4 \".split():\n",
        "    for d in \"bg_fg_1  bg_fgFlip_1  bg_fgFlip_mask_1\tbg_fg_mask_1\".split():\n",
        "        count +=len(os.listdir(os.path.join(p,d)))\n",
        "    print('File in path :{} is {}'.format(p,len(os.listdir(os.path.join(p,d)))))\n",
        "print(count)"
      ],
      "execution_count": 0,
      "outputs": []
    },
    {
      "cell_type": "code",
      "metadata": {
        "id": "8Vnwk8S4kDBz",
        "colab_type": "code",
        "colab": {}
      },
      "source": [
        ""
      ],
      "execution_count": 0,
      "outputs": []
    }
  ]
}