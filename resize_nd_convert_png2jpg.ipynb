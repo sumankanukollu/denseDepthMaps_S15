{
  "nbformat": 4,
  "nbformat_minor": 0,
  "metadata": {
    "colab": {
      "name": "resize_nd_convert_png2jpg.ipynb",
      "provenance": [],
      "collapsed_sections": [],
      "mount_file_id": "18tLVajERtyRiUm5PAUGL6YgItX3EifYP",
      "authorship_tag": "ABX9TyP+rUL6ndV7EtZPrB4OgwgO",
      "include_colab_link": true
    },
    "kernelspec": {
      "name": "python3",
      "display_name": "Python 3"
    }
  },
  "cells": [
    {
      "cell_type": "markdown",
      "metadata": {
        "id": "view-in-github",
        "colab_type": "text"
      },
      "source": [
        "<a href=\"https://colab.research.google.com/github/sumankanukollu/denseDepthMaps_S15/blob/master/resize_nd_convert_png2jpg.ipynb\" target=\"_parent\"><img src=\"https://colab.research.google.com/assets/colab-badge.svg\" alt=\"Open In Colab\"/></a>"
      ]
    },
    {
      "cell_type": "markdown",
      "metadata": {
        "id": "kkQ26k6pb8bC",
        "colab_type": "text"
      },
      "source": [
        "# mount drive"
      ]
    },
    {
      "cell_type": "code",
      "metadata": {
        "id": "Ff7-GiyVbsSO",
        "colab_type": "code",
        "outputId": "8b695fa4-74c0-4eb6-ba53-c52d8c31a4be",
        "colab": {
          "base_uri": "https://localhost:8080/",
          "height": 34
        }
      },
      "source": [
        "from google.colab import drive\n",
        "drive.mount('/content/drive')"
      ],
      "execution_count": 0,
      "outputs": [
        {
          "output_type": "stream",
          "text": [
            "Drive already mounted at /content/drive; to attempt to forcibly remount, call drive.mount(\"/content/drive\", force_remount=True).\n"
          ],
          "name": "stdout"
        }
      ]
    },
    {
      "cell_type": "code",
      "metadata": {
        "id": "jvMn6xyrew-C",
        "colab_type": "code",
        "colab": {}
      },
      "source": [
        "import os,pdb,random,time\n",
        "from PIL import Image, ImageDraw, ImageFilter\n",
        "from pathlib import Path"
      ],
      "execution_count": 0,
      "outputs": []
    },
    {
      "cell_type": "markdown",
      "metadata": {
        "id": "lqDTOMWTckhh",
        "colab_type": "text"
      },
      "source": [
        "# Resize Images and Convert PNG to jpg\n",
        "    BG=224 and FG=96 mask=96"
      ]
    },
    {
      "cell_type": "code",
      "metadata": {
        "id": "ZB7lIwnycajg",
        "colab_type": "code",
        "colab": {}
      },
      "source": [
        "def resz(w,h):\n",
        "\tbasewidth = w\n",
        "\thsize =  h\n",
        "\t\n",
        "\tfor im in os.listdir('.'):\n",
        "\t\tif im.endswith('.png'):\n",
        "\t\t\timg = Image.open(im)\n",
        "\t\t\timg = img.resize((basewidth,hsize), Image.ANTIALIAS)\n",
        "\t\t\tnewName = im.split('.')[0]+'.jpg'\n",
        "\t\t\timg.save(newName)\n",
        "            \n",
        "\n",
        "def removePngFiles():\n",
        "    for i in os.listdir('.'):\n",
        "        if i.endswith('.png'):\n",
        "            os.remove(i)"
      ],
      "execution_count": 0,
      "outputs": []
    },
    {
      "cell_type": "code",
      "metadata": {
        "id": "Djvz5cEWd6tw",
        "colab_type": "code",
        "outputId": "cc308048-a22a-425f-901a-50e551604ab4",
        "colab": {
          "base_uri": "https://localhost:8080/",
          "height": 34
        }
      },
      "source": [
        "os.chdir('/content/drive/My Drive/EVA4/S15A_RCNN_RGB/bg_fg_mask_jpgIms/bg')\n",
        "#resz(96,96)\n",
        "#time.sleep(10)\n",
        "#removePngFiles()\n",
        "\n",
        "print(len(os.listdir()))\n",
        "for i in os.listdir('.'):\n",
        "    if i.endswith('.jpg'):\n",
        "        im =Image.open(i)\n",
        "        if im.size !=(224,224):\n",
        "            print(im.size)"
      ],
      "execution_count": 0,
      "outputs": [
        {
          "output_type": "stream",
          "text": [
            "100\n"
          ],
          "name": "stdout"
        }
      ]
    }
  ]
}